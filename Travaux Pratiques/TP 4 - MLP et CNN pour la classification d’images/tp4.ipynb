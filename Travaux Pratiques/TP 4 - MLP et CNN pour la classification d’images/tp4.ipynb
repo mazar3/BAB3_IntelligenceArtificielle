{
 "cells": [
  {
   "cell_type": "markdown",
   "metadata": {
    "id": "1ycVEqHNtCfv"
   },
   "source": [
    "## **Question 1 : vérifier que le GPU est bien sélectionné**"
   ]
  },
  {
   "cell_type": "code",
   "metadata": {
    "id": "Yf9yq6rdtJRn",
    "ExecuteTime": {
     "end_time": "2025-03-06T10:01:56.411178Z",
     "start_time": "2025-03-06T10:01:56.406661Z"
    }
   },
   "source": [
    "#####################################################"
   ],
   "outputs": [],
   "execution_count": 47
  },
  {
   "cell_type": "markdown",
   "metadata": {
    "id": "4gC6BOeltR79"
   },
   "source": [
    "## **Instruction 1 : Installation de pytorch lightning**"
   ]
  },
  {
   "cell_type": "code",
   "metadata": {
    "id": "k_2Z0xNUv6JK",
    "ExecuteTime": {
     "end_time": "2025-03-06T10:17:24.060675Z",
     "start_time": "2025-03-06T10:17:21.576684Z"
    }
   },
   "source": "!pip3 install torch torchvision torchaudio --index-url https://download.pytorch.org/whl/cu126",
   "outputs": [
    {
     "name": "stdout",
     "output_type": "stream",
     "text": [
      "Looking in indexes: https://download.pytorch.org/whl/cu126\n",
      "Requirement already satisfied: torch in c:\\users\\maxim\\onedrive\\documents\\umons\\bab3\\q2 - intelligence artificielle\\.venv\\lib\\site-packages (2.6.0+cu126)\n",
      "Requirement already satisfied: torchvision in c:\\users\\maxim\\onedrive\\documents\\umons\\bab3\\q2 - intelligence artificielle\\.venv\\lib\\site-packages (0.21.0+cu126)\n",
      "Requirement already satisfied: torchaudio in c:\\users\\maxim\\onedrive\\documents\\umons\\bab3\\q2 - intelligence artificielle\\.venv\\lib\\site-packages (2.6.0+cu126)\n",
      "Requirement already satisfied: filelock in c:\\users\\maxim\\onedrive\\documents\\umons\\bab3\\q2 - intelligence artificielle\\.venv\\lib\\site-packages (from torch) (3.17.0)\n",
      "Requirement already satisfied: typing-extensions>=4.10.0 in c:\\users\\maxim\\onedrive\\documents\\umons\\bab3\\q2 - intelligence artificielle\\.venv\\lib\\site-packages (from torch) (4.12.2)\n",
      "Requirement already satisfied: networkx in c:\\users\\maxim\\onedrive\\documents\\umons\\bab3\\q2 - intelligence artificielle\\.venv\\lib\\site-packages (from torch) (3.4.2)\n",
      "Requirement already satisfied: jinja2 in c:\\users\\maxim\\onedrive\\documents\\umons\\bab3\\q2 - intelligence artificielle\\.venv\\lib\\site-packages (from torch) (3.1.5)\n",
      "Requirement already satisfied: fsspec in c:\\users\\maxim\\onedrive\\documents\\umons\\bab3\\q2 - intelligence artificielle\\.venv\\lib\\site-packages (from torch) (2025.2.0)\n",
      "Requirement already satisfied: sympy==1.13.1 in c:\\users\\maxim\\onedrive\\documents\\umons\\bab3\\q2 - intelligence artificielle\\.venv\\lib\\site-packages (from torch) (1.13.1)\n",
      "Requirement already satisfied: mpmath<1.4,>=1.1.0 in c:\\users\\maxim\\onedrive\\documents\\umons\\bab3\\q2 - intelligence artificielle\\.venv\\lib\\site-packages (from sympy==1.13.1->torch) (1.3.0)\n",
      "Requirement already satisfied: numpy in c:\\users\\maxim\\onedrive\\documents\\umons\\bab3\\q2 - intelligence artificielle\\.venv\\lib\\site-packages (from torchvision) (1.26.4)\n",
      "Requirement already satisfied: pillow!=8.3.*,>=5.3.0 in c:\\users\\maxim\\onedrive\\documents\\umons\\bab3\\q2 - intelligence artificielle\\.venv\\lib\\site-packages (from torchvision) (11.1.0)\n",
      "Requirement already satisfied: MarkupSafe>=2.0 in c:\\users\\maxim\\onedrive\\documents\\umons\\bab3\\q2 - intelligence artificielle\\.venv\\lib\\site-packages (from jinja2->torch) (3.0.2)\n"
     ]
    }
   ],
   "execution_count": 1
  },
  {
   "cell_type": "markdown",
   "source": [
    "## **Instruction 2 : connecter votre notebook à la plateforme WanDB**"
   ],
   "metadata": {
    "id": "Br1BTYYIFwPD"
   }
  },
  {
   "cell_type": "code",
   "metadata": {
    "id": "HZZLqg9w6I9V",
    "ExecuteTime": {
     "end_time": "2025-03-06T10:17:27.562277Z",
     "start_time": "2025-03-06T10:17:24.077277Z"
    }
   },
   "source": [
    "import wandb\n",
    "wandb.login(key=\"9414e8ff95ebd7016321b49a7cd54fac7c75fd9d\")"
   ],
   "outputs": [
    {
     "name": "stderr",
     "output_type": "stream",
     "text": [
      "wandb: Using wandb-core as the SDK backend.  Please refer to https://wandb.me/wandb-core for more information.\n",
      "wandb: WARNING If you're specifying your api key in code, ensure this code is not shared publicly.\n",
      "wandb: WARNING Consider setting the WANDB_API_KEY environment variable, or running `wandb login` from the command line.\n",
      "wandb: Appending key for api.wandb.ai to your netrc file: C:\\Users\\maxim\\_netrc\n",
      "wandb: Currently logged in as: maximilien003 (maximilien003-universit-de-mons) to https://api.wandb.ai. Use `wandb login --relogin` to force relogin\n"
     ]
    },
    {
     "data": {
      "text/plain": [
       "True"
      ]
     },
     "execution_count": 2,
     "metadata": {},
     "output_type": "execute_result"
    }
   ],
   "execution_count": 2
  },
  {
   "cell_type": "markdown",
   "metadata": {
    "id": "aBIFlnIPtP8D"
   },
   "source": [
    "## **Instruction 3 : importation des librairies**"
   ]
  },
  {
   "cell_type": "code",
   "metadata": {
    "id": "T0D3-6W-w6vJ",
    "ExecuteTime": {
     "end_time": "2025-03-06T10:17:32.307881Z",
     "start_time": "2025-03-06T10:17:27.833037Z"
    }
   },
   "source": [
    "import pytorch_lightning as pl\n",
    "import torch\n",
    "from torch import nn\n",
    "from torch.nn import functional as F\n",
    "from torch.utils.data import DataLoader\n",
    "from torchmetrics import Accuracy\n",
    "from torchvision import transforms\n",
    "from torchvision.datasets import MNIST\n",
    "from torchmetrics.classification import MulticlassConfusionMatrix\n",
    "from torchmetrics.functional.classification import multiclass_accuracy\n",
    "from pytorch_lightning.loggers import CSVLogger\n",
    "import matplotlib.pyplot as plt\n",
    "from pytorch_lightning.loggers import TensorBoardLogger , WandbLogger\n",
    "from pytorch_lightning.callbacks import ModelCheckpoint\n",
    "from torchinfo import summary\n",
    "from lightning_fabric.utilities.seed import seed_everything\n",
    "from sklearn.model_selection import train_test_split\n",
    "from torch.utils.data import Subset\n",
    "import numpy as np\n",
    "from torchmetrics.classification import MulticlassAccuracy\n",
    "seed_everything(42,workers=True)"
   ],
   "outputs": [
    {
     "name": "stderr",
     "output_type": "stream",
     "text": [
      "Seed set to 42\n"
     ]
    },
    {
     "data": {
      "text/plain": [
       "42"
      ]
     },
     "execution_count": 3,
     "metadata": {},
     "output_type": "execute_result"
    }
   ],
   "execution_count": 3
  },
  {
   "cell_type": "markdown",
   "source": [
    "## **Instruction 4 : définir les paramètres d'entrainement**"
   ],
   "metadata": {
    "id": "qAG5SlelGBs6"
   }
  },
  {
   "cell_type": "code",
   "metadata": {
    "id": "qNP0O7CHbJ3-",
    "ExecuteTime": {
     "end_time": "2025-03-06T10:17:32.325793Z",
     "start_time": "2025-03-06T10:17:32.322963Z"
    }
   },
   "source": [
    "NUM_CLASSES = 10\n",
    "BATCH_SIZE=64 #@param [1,2,4,8,16,32,64,128] {type:\"raw\"}\n",
    "EPOCHS=10 #@param [1,5, 10,20,50,100,200] {type:\"raw\"}\n",
    "DATA_DIR=\".\"\n",
    "LOG_DIR=\"logs/\"\n",
    "ACCELERATOR= \"auto\" #@param [\"cpu\",\"gpu\",\"auto\"]"
   ],
   "outputs": [],
   "execution_count": 4
  },
  {
   "cell_type": "markdown",
   "metadata": {
    "id": "_ul4Jw3htdJ2"
   },
   "source": [
    "## **Instruction 5 : téléchargement de la base de données MNIST**"
   ]
  },
  {
   "cell_type": "code",
   "metadata": {
    "id": "NEGN_4sDKVZQ",
    "ExecuteTime": {
     "end_time": "2025-03-06T10:17:32.404035Z",
     "start_time": "2025-03-06T10:17:32.365082Z"
    }
   },
   "source": [
    "transform = transforms.Compose([transforms.ToTensor()])\n",
    "train_ds = MNIST(DATA_DIR, train=True, download=True, transform=transform)\n",
    "test_ds = MNIST(DATA_DIR, train=False, download=True, transform=transform)"
   ],
   "outputs": [],
   "execution_count": 5
  },
  {
   "cell_type": "markdown",
   "metadata": {
    "id": "5TA8KsLglCUE"
   },
   "source": [
    "## **Instruction 6 : Divison des données et création des tenseurs/dataloaders**"
   ]
  },
  {
   "cell_type": "code",
   "metadata": {
    "id": "3iFYwF0-lB5w",
    "ExecuteTime": {
     "end_time": "2025-03-06T10:17:32.439852Z",
     "start_time": "2025-03-06T10:17:32.415558Z"
    }
   },
   "source": [
    "targets = train_ds.targets\n",
    "\n",
    "train_idx, valid_idx= train_test_split(np.arange(len(targets)), test_size=0.2, random_state=42, shuffle=True, stratify=targets)\n",
    "train_ds_subset = Subset(train_ds, train_idx)\n",
    "val_ds = Subset(train_ds, valid_idx)\n",
    "\n",
    "# create train , test and val loaders\n",
    "train_loader = DataLoader(train_ds_subset, batch_size=BATCH_SIZE)\n",
    "val_loader = DataLoader(val_ds, batch_size=BATCH_SIZE)\n",
    "test_loader = DataLoader(test_ds, batch_size=BATCH_SIZE)\n"
   ],
   "outputs": [],
   "execution_count": 6
  },
  {
   "cell_type": "markdown",
   "metadata": {
    "id": "0qbtVk74ttGo"
   },
   "source": "## **Question 2:  Inspecter le format de vos données d'entrainement, validation et test**"
  },
  {
   "cell_type": "code",
   "metadata": {
    "id": "SoSqJXA_x3eP",
    "ExecuteTime": {
     "end_time": "2025-03-06T10:17:32.457022Z",
     "start_time": "2025-03-06T10:17:32.447882Z"
    }
   },
   "source": [
    "# Affichage des informations\n",
    "print(f\"Train set: {len(train_ds)} samples, shape: {train_ds[0][0].shape}, type: {type(train_ds[0][0])}\")\n",
    "print(f\"Validation set: {len(val_ds)} samples, shape: {val_ds[0][0].shape}, type: {type(val_ds[0][0])}\")\n",
    "print(f\"Test set: {len(test_ds)} samples, shape: {test_ds[0][0].shape}, type: {type(test_ds[0][0])}\")"
   ],
   "outputs": [
    {
     "name": "stdout",
     "output_type": "stream",
     "text": [
      "Train set: 60000 samples, shape: torch.Size([1, 28, 28]), type: <class 'torch.Tensor'>\n",
      "Validation set: 12000 samples, shape: torch.Size([1, 28, 28]), type: <class 'torch.Tensor'>\n",
      "Test set: 10000 samples, shape: torch.Size([1, 28, 28]), type: <class 'torch.Tensor'>\n"
     ]
    }
   ],
   "execution_count": 7
  },
  {
   "cell_type": "markdown",
   "source": [
    "## **Instruction 7 : visualiser 10 échantions de données/images**"
   ],
   "metadata": {
    "id": "jfOAojUJGsG-"
   }
  },
  {
   "cell_type": "code",
   "metadata": {
    "id": "5KibMBE7LfSj",
    "ExecuteTime": {
     "end_time": "2025-03-06T10:17:33.197693Z",
     "start_time": "2025-03-06T10:17:32.495238Z"
    }
   },
   "source": [
    "# Get one batch of data\n",
    "images, labels = next(iter(train_loader))\n",
    "num_row = 2\n",
    "num_col = 5\n",
    "fig, axes = plt.subplots(num_row, num_col, figsize=(1.5 * num_col, 2 * num_row))\n",
    "for i in range(10):\n",
    "    ax = axes[i // num_col, i % num_col]\n",
    "    ax.imshow(images[i].squeeze(), cmap='gray')\n",
    "    ax.set_title('Label: {}'.format(labels[i].item()))\n",
    "    ax.axis('off')\n",
    "plt.tight_layout()\n",
    "plt.show()"
   ],
   "outputs": [
    {
     "data": {
      "text/plain": [
       "<Figure size 750x400 with 10 Axes>"
      ],
      "image/png": "[encoded data removed]"
     },
     "metadata": {},
     "output_type": "display_data"
    }
   ],
   "execution_count": 8
  },
  {
   "cell_type": "markdown",
   "metadata": {
    "id": "IRtCSEnct2H1"
   },
   "source": [
    "## **Question 3 : analyser attentivement la classe «MNISTModel» avant de la compléter**"
   ]
  },
  {
   "cell_type": "code",
   "metadata": {
    "id": "7bJRtSiywMjl",
    "ExecuteTime": {
     "end_time": "2025-03-06T10:17:36.593382Z",
     "start_time": "2025-03-06T10:17:36.585375Z"
    }
   },
   "source": [
    "class MNISTModel(pl.LightningModule):\n",
    "    def __init__(self, model, optimizer, num_classes=NUM_CLASSES, lr=1e-4):\n",
    "        super(MNISTModel, self).__init__()\n",
    "        self.model = model\n",
    "        self.num_classes = num_classes\n",
    "        self.optimizer = optimizer\n",
    "        self.lr = lr\n",
    "        self.train_acc = MulticlassAccuracy(num_classes=num_classes)\n",
    "        self.val_acc = MulticlassAccuracy(num_classes=num_classes)\n",
    "        self.test_acc = MulticlassAccuracy(num_classes=num_classes)\n",
    "\n",
    "    def forward(self, x):\n",
    "        return self.model(x)\n",
    "\n",
    "    def training_step(self, batch, batch_idx):\n",
    "        x, y = batch\n",
    "        y_hat = self(x)\n",
    "        loss = F.cross_entropy(y_hat, y)\n",
    "        acc = self.train_acc(y_hat, y)\n",
    "        self.log_dict({'train_loss': loss, \"train_acc\": acc}, on_step=False, prog_bar=True, logger=True, on_epoch=True)\n",
    "        return loss\n",
    "\n",
    "    def on_train_epoch_end(self):\n",
    "        self.train_acc.reset()\n",
    "\n",
    "    def validation_step(self, batch, batch_idx):\n",
    "        x, y = batch\n",
    "        y_hat = self(x)\n",
    "        loss = F.cross_entropy(y_hat, y)\n",
    "        acc = self.val_acc(y_hat, y)\n",
    "        self.log_dict({'val_loss': loss, \"val_acc\": acc}, on_step=False, prog_bar=True, logger=True, on_epoch=True)\n",
    "        return loss\n",
    "\n",
    "    def on_validation_epoch_end(self):\n",
    "        self.val_acc.reset()\n",
    "\n",
    "    def test_step(self, batch, batch_idx):\n",
    "        x, y = batch\n",
    "        y_hat = self(x)\n",
    "        loss = F.cross_entropy(y_hat, y)\n",
    "        acc = self.test_acc(y_hat, y)\n",
    "        self.log_dict({'test_loss': loss, \"test_acc\": acc}, on_step=False, prog_bar=True, logger=True, on_epoch=True)\n",
    "        return loss\n",
    "\n",
    "    def on_test_epoch_end(self):\n",
    "        self.test_acc.reset()\n",
    "\n",
    "    def configure_optimizers(self):\n",
    "        return self.optimizer(self.model.parameters(), lr=self.lr, weight_decay=1e-4)"
   ],
   "outputs": [],
   "execution_count": 9
  },
  {
   "cell_type": "markdown",
   "source": [
    "---\n",
    "# **Partie I : MLP à une seule couche**\n",
    "\n"
   ],
   "metadata": {
    "id": "xnDIi16A-e7u"
   }
  },
  {
   "cell_type": "markdown",
   "metadata": {
    "id": "kIO1SxV11xHu"
   },
   "source": [
    "## **Instruction 8 : définition de l'architecture neuronale  du  premier modèle à 1 seule couche**"
   ]
  },
  {
   "cell_type": "code",
   "metadata": {
    "id": "1S7gFA-UPzdw",
    "ExecuteTime": {
     "end_time": "2025-03-06T10:17:39.485583Z",
     "start_time": "2025-03-06T10:17:39.482053Z"
    }
   },
   "source": [
    "class MLP1(nn.Module):\n",
    "    def __init__(self):\n",
    "        super(MLP1, self).__init__()\n",
    "        self.l1 = nn.Linear(28 * 28, 10)\n",
    "    def forward(self, x):\n",
    "        x = x.view(x.size(0), -1)  # Flatten\n",
    "        x = self.l1(x)\n",
    "        return x"
   ],
   "outputs": [],
   "execution_count": 10
  },
  {
   "cell_type": "markdown",
   "source": [
    "## **Instruction 9 : visualiser l'architecture de votre  premier modèle avec la fonction summary()**"
   ],
   "metadata": {
    "id": "S5rblNG_LzjU"
   }
  },
  {
   "cell_type": "code",
   "metadata": {
    "id": "GFnczkmW_9pX",
    "ExecuteTime": {
     "end_time": "2025-03-06T10:02:00.538898Z",
     "start_time": "2025-03-06T10:02:00.533464Z"
    }
   },
   "source": [
    "mlp1 = MLP1()\n",
    "summary(mlp1,(1,28,28))"
   ],
   "outputs": [
    {
     "data": {
      "text/plain": [
       "==========================================================================================\n",
       "Layer (type:depth-idx)                   Output Shape              Param #\n",
       "==========================================================================================\n",
       "MLP1                                     [1, 10]                   --\n",
       "├─Linear: 1-1                            [1, 10]                   7,850\n",
       "==========================================================================================\n",
       "Total params: 7,850\n",
       "Trainable params: 7,850\n",
       "Non-trainable params: 0\n",
       "Total mult-adds (Units.MEGABYTES): 0.01\n",
       "==========================================================================================\n",
       "Input size (MB): 0.00\n",
       "Forward/backward pass size (MB): 0.00\n",
       "Params size (MB): 0.03\n",
       "Estimated Total Size (MB): 0.03\n",
       "=========================================================================================="
      ]
     },
     "execution_count": 58,
     "metadata": {},
     "output_type": "execute_result"
    }
   ],
   "execution_count": 58
  },
  {
   "cell_type": "markdown",
   "metadata": {
    "id": "xW_AfyDLuWNV"
   },
   "source": [
    "## **Question 4 : compléter le code (SGD avec lr='0.01' et lancer l'entrainement**"
   ]
  },
  {
   "metadata": {
    "ExecuteTime": {
     "end_time": "2025-03-06T10:03:41.024025Z",
     "start_time": "2025-03-06T10:02:00.548689Z"
    }
   },
   "cell_type": "code",
   "source": [
    "EPOCHS = 10\n",
    "wandb_logger = WandbLogger(\n",
    "    project=\"TP4 MNIST\",\n",
    "    name=\"mlp1_10epochs\",\n",
    "    log_model=True,\n",
    ")\n",
    "optimizer = torch.optim.SGD\n",
    "model1  = MNISTModel(mlp1,optimizer=optimizer,lr=0.01)\n",
    "\n",
    "# Initialize a trainer\n",
    "trainer = pl.Trainer(\n",
    "    accelerator=ACCELERATOR,\n",
    "    max_epochs=EPOCHS,\n",
    "    logger=wandb_logger,\n",
    ")\n",
    "# Train the model ⚡\n",
    "trainer.fit(model1, train_loader, val_loader)"
   ],
   "outputs": [
    {
     "name": "stderr",
     "output_type": "stream",
     "text": [
      "GPU available: True (cuda), used: True\n",
      "TPU available: False, using: 0 TPU cores\n",
      "HPU available: False, using: 0 HPUs\n"
     ]
    },
    {
     "data": {
      "text/plain": [
       "<IPython.core.display.HTML object>"
      ],
      "text/html": [
       "Tracking run with wandb version 0.19.7"
      ]
     },
     "metadata": {},
     "output_type": "display_data"
    },
    {
     "data": {
      "text/plain": [
       "<IPython.core.display.HTML object>"
      ],
      "text/html": [
       "Run data is saved locally in <code>.\\wandb\\run-20250306_110200-3gl3tdia</code>"
      ]
     },
     "metadata": {},
     "output_type": "display_data"
    },
    {
     "data": {
      "text/plain": [
       "<IPython.core.display.HTML object>"
      ],
      "text/html": [
       "Syncing run <strong><a href='https://wandb.ai/maximilien003-universit-de-mons/TP4%20MNIST/runs/3gl3tdia' target=\"_blank\">mlp1_10epochs</a></strong> to <a href='https://wandb.ai/maximilien003-universit-de-mons/TP4%20MNIST' target=\"_blank\">Weights & Biases</a> (<a href='https://wandb.me/developer-guide' target=\"_blank\">docs</a>)<br>"
      ]
     },
     "metadata": {},
     "output_type": "display_data"
    },
    {
     "data": {
      "text/plain": [
       "<IPython.core.display.HTML object>"
      ],
      "text/html": [
       " View project at <a href='https://wandb.ai/maximilien003-universit-de-mons/TP4%20MNIST' target=\"_blank\">https://wandb.ai/maximilien003-universit-de-mons/TP4%20MNIST</a>"
      ]
     },
     "metadata": {},
     "output_type": "display_data"
    },
    {
     "data": {
      "text/plain": [
       "<IPython.core.display.HTML object>"
      ],
      "text/html": [
       " View run at <a href='https://wandb.ai/maximilien003-universit-de-mons/TP4%20MNIST/runs/3gl3tdia' target=\"_blank\">https://wandb.ai/maximilien003-universit-de-mons/TP4%20MNIST/runs/3gl3tdia</a>"
      ]
     },
     "metadata": {},
     "output_type": "display_data"
    },
    {
     "name": "stderr",
     "output_type": "stream",
     "text": [
      "LOCAL_RANK: 0 - CUDA_VISIBLE_DEVICES: [0]\n",
      "\n",
      "  | Name      | Type               | Params | Mode \n",
      "---------------------------------------------------------\n",
      "0 | model     | MLP1               | 7.9 K  | train\n",
      "1 | train_acc | MulticlassAccuracy | 0      | train\n",
      "2 | val_acc   | MulticlassAccuracy | 0      | train\n",
      "3 | test_acc  | MulticlassAccuracy | 0      | train\n",
      "---------------------------------------------------------\n",
      "7.9 K     Trainable params\n",
      "0         Non-trainable params\n",
      "7.9 K     Total params\n",
      "0.031     Total estimated model params size (MB)\n",
      "5         Modules in train mode\n",
      "0         Modules in eval mode\n"
     ]
    },
    {
     "data": {
      "text/plain": [
       "Sanity Checking: |          | 0/? [00:00<?, ?it/s]"
      ],
      "application/vnd.jupyter.widget-view+json": {
       "version_major": 2,
       "version_minor": 0,
       "model_id": "5d38e3369ba94424b5e38f82a078f741"
      }
     },
     "metadata": {},
     "output_type": "display_data"
    },
    {
     "name": "stderr",
     "output_type": "stream",
     "text": [
      "C:\\Users\\maxim\\OneDrive\\Documents\\UMONS\\BAB3\\Q2 - Intelligence Artificielle\\.venv\\Lib\\site-packages\\pytorch_lightning\\trainer\\connectors\\data_connector.py:425: The 'val_dataloader' does not have many workers which may be a bottleneck. Consider increasing the value of the `num_workers` argument` to `num_workers=15` in the `DataLoader` to improve performance.\n",
      "C:\\Users\\maxim\\OneDrive\\Documents\\UMONS\\BAB3\\Q2 - Intelligence Artificielle\\.venv\\Lib\\site-packages\\pytorch_lightning\\trainer\\connectors\\data_connector.py:425: The 'train_dataloader' does not have many workers which may be a bottleneck. Consider increasing the value of the `num_workers` argument` to `num_workers=15` in the `DataLoader` to improve performance.\n"
     ]
    },
    {
     "data": {
      "text/plain": [
       "Training: |          | 0/? [00:00<?, ?it/s]"
      ],
      "application/vnd.jupyter.widget-view+json": {
       "version_major": 2,
       "version_minor": 0,
       "model_id": "18a794fa612f4d849303438b51052035"
      }
     },
     "metadata": {},
     "output_type": "display_data"
    },
    {
     "data": {
      "text/plain": [
       "Validation: |          | 0/? [00:00<?, ?it/s]"
      ],
      "application/vnd.jupyter.widget-view+json": {
       "version_major": 2,
       "version_minor": 0,
       "model_id": "8d47824f0f12447ba52cc51d0d2b00ff"
      }
     },
     "metadata": {},
     "output_type": "display_data"
    },
    {
     "data": {
      "text/plain": [
       "Validation: |          | 0/? [00:00<?, ?it/s]"
      ],
      "application/vnd.jupyter.widget-view+json": {
       "version_major": 2,
       "version_minor": 0,
       "model_id": "45b45f7ac41049ce8637db33cad8c8a6"
      }
     },
     "metadata": {},
     "output_type": "display_data"
    },
    {
     "data": {
      "text/plain": [
       "Validation: |          | 0/? [00:00<?, ?it/s]"
      ],
      "application/vnd.jupyter.widget-view+json": {
       "version_major": 2,
       "version_minor": 0,
       "model_id": "87e4a09e7c05437aaf8725887345494a"
      }
     },
     "metadata": {},
     "output_type": "display_data"
    },
    {
     "data": {
      "text/plain": [
       "Validation: |          | 0/? [00:00<?, ?it/s]"
      ],
      "application/vnd.jupyter.widget-view+json": {
       "version_major": 2,
       "version_minor": 0,
       "model_id": "268a9789ae004a07bff2391d03df3e06"
      }
     },
     "metadata": {},
     "output_type": "display_data"
    },
    {
     "data": {
      "text/plain": [
       "Validation: |          | 0/? [00:00<?, ?it/s]"
      ],
      "application/vnd.jupyter.widget-view+json": {
       "version_major": 2,
       "version_minor": 0,
       "model_id": "e1e3711d10ff455da12b11f912a6fe1a"
      }
     },
     "metadata": {},
     "output_type": "display_data"
    },
    {
     "data": {
      "text/plain": [
       "Validation: |          | 0/? [00:00<?, ?it/s]"
      ],
      "application/vnd.jupyter.widget-view+json": {
       "version_major": 2,
       "version_minor": 0,
       "model_id": "761c11aef1b548afb3c3ffa598e2eb37"
      }
     },
     "metadata": {},
     "output_type": "display_data"
    },
    {
     "data": {
      "text/plain": [
       "Validation: |          | 0/? [00:00<?, ?it/s]"
      ],
      "application/vnd.jupyter.widget-view+json": {
       "version_major": 2,
       "version_minor": 0,
       "model_id": "b1b55906928e4ec883cff0dda4cde9eb"
      }
     },
     "metadata": {},
     "output_type": "display_data"
    },
    {
     "data": {
      "text/plain": [
       "Validation: |          | 0/? [00:00<?, ?it/s]"
      ],
      "application/vnd.jupyter.widget-view+json": {
       "version_major": 2,
       "version_minor": 0,
       "model_id": "67f9e8cbc56c4523995a5e24381eb1b7"
      }
     },
     "metadata": {},
     "output_type": "display_data"
    },
    {
     "data": {
      "text/plain": [
       "Validation: |          | 0/? [00:00<?, ?it/s]"
      ],
      "application/vnd.jupyter.widget-view+json": {
       "version_major": 2,
       "version_minor": 0,
       "model_id": "abd31c8c05894d788f2e7765e79d2295"
      }
     },
     "metadata": {},
     "output_type": "display_data"
    },
    {
     "data": {
      "text/plain": [
       "Validation: |          | 0/? [00:00<?, ?it/s]"
      ],
      "application/vnd.jupyter.widget-view+json": {
       "version_major": 2,
       "version_minor": 0,
       "model_id": "434cceb7d01c43f9b11e0ad52c5c8e2f"
      }
     },
     "metadata": {},
     "output_type": "display_data"
    },
    {
     "name": "stderr",
     "output_type": "stream",
     "text": [
      "`Trainer.fit` stopped: `max_epochs=10` reached.\n"
     ]
    }
   ],
   "execution_count": 59
  },
  {
   "metadata": {
    "ExecuteTime": {
     "end_time": "2025-03-06T10:03:45.100521Z",
     "start_time": "2025-03-06T10:03:41.048115Z"
    }
   },
   "cell_type": "code",
   "source": [
    "trainer.test(model1, test_loader)\n",
    "wandb.finish()"
   ],
   "outputs": [
    {
     "name": "stderr",
     "output_type": "stream",
     "text": [
      "LOCAL_RANK: 0 - CUDA_VISIBLE_DEVICES: [0]\n",
      "C:\\Users\\maxim\\OneDrive\\Documents\\UMONS\\BAB3\\Q2 - Intelligence Artificielle\\.venv\\Lib\\site-packages\\pytorch_lightning\\trainer\\connectors\\data_connector.py:425: The 'test_dataloader' does not have many workers which may be a bottleneck. Consider increasing the value of the `num_workers` argument` to `num_workers=15` in the `DataLoader` to improve performance.\n"
     ]
    },
    {
     "data": {
      "text/plain": [
       "Testing: |          | 0/? [00:00<?, ?it/s]"
      ],
      "application/vnd.jupyter.widget-view+json": {
       "version_major": 2,
       "version_minor": 0,
       "model_id": "408d302bae8e4c8e868c6ebd94b23e5f"
      }
     },
     "metadata": {},
     "output_type": "display_data"
    },
    {
     "name": "stdout",
     "output_type": "stream",
     "text": [
      "────────────────────────────────────────────────────────────────────────────────────────────────────────────────────────\r\n",
      "       Test metric             DataLoader 0\r\n",
      "────────────────────────────────────────────────────────────────────────────────────────────────────────────────────────\r\n",
      "        test_acc             0.905625581741333\r\n",
      "        test_loss           0.34880688786506653\r\n",
      "────────────────────────────────────────────────────────────────────────────────────────────────────────────────────────\n"
     ]
    },
    {
     "data": {
      "text/plain": [
       "<IPython.core.display.HTML object>"
      ],
      "text/html": []
     },
     "metadata": {},
     "output_type": "display_data"
    },
    {
     "data": {
      "text/plain": [
       "<IPython.core.display.HTML object>"
      ],
      "text/html": [
       "<br>    <style><br>        .wandb-row {<br>            display: flex;<br>            flex-direction: row;<br>            flex-wrap: wrap;<br>            justify-content: flex-start;<br>            width: 100%;<br>        }<br>        .wandb-col {<br>            display: flex;<br>            flex-direction: column;<br>            flex-basis: 100%;<br>            flex: 1;<br>            padding: 10px;<br>        }<br>    </style><br><div class=\"wandb-row\"><div class=\"wandb-col\"><h3>Run history:</h3><br/><table class=\"wandb\"><tr><td>epoch</td><td>▁▁▂▂▂▂▃▃▄▄▅▅▅▅▆▆▇▇▇▇█</td></tr><tr><td>test_acc</td><td>▁</td></tr><tr><td>test_loss</td><td>▁</td></tr><tr><td>train_acc</td><td>▁▆▆▇▇▇████</td></tr><tr><td>train_loss</td><td>█▃▂▂▂▁▁▁▁▁</td></tr><tr><td>trainer/global_step</td><td>▁▁▂▂▃▃▃▃▄▄▅▅▆▆▆▆▇▇███</td></tr><tr><td>val_acc</td><td>▁▄▅▆▆▇▇▇██</td></tr><tr><td>val_loss</td><td>█▅▃▃▂▂▂▁▁▁</td></tr></table><br/></div><div class=\"wandb-col\"><h3>Run summary:</h3><br/><table class=\"wandb\"><tr><td>epoch</td><td>10</td></tr><tr><td>test_acc</td><td>0.90563</td></tr><tr><td>test_loss</td><td>0.34881</td></tr><tr><td>train_acc</td><td>0.89708</td></tr><tr><td>train_loss</td><td>0.36863</td></tr><tr><td>trainer/global_step</td><td>7500</td></tr><tr><td>val_acc</td><td>0.89443</td></tr><tr><td>val_loss</td><td>0.37035</td></tr></table><br/></div></div>"
      ]
     },
     "metadata": {},
     "output_type": "display_data"
    },
    {
     "data": {
      "text/plain": [
       "<IPython.core.display.HTML object>"
      ],
      "text/html": [
       " View run <strong style=\"color:#cdcd00\">mlp1_10epochs</strong> at: <a href='https://wandb.ai/maximilien003-universit-de-mons/TP4%20MNIST/runs/3gl3tdia' target=\"_blank\">https://wandb.ai/maximilien003-universit-de-mons/TP4%20MNIST/runs/3gl3tdia</a><br> View project at: <a href='https://wandb.ai/maximilien003-universit-de-mons/TP4%20MNIST' target=\"_blank\">https://wandb.ai/maximilien003-universit-de-mons/TP4%20MNIST</a><br>Synced 5 W&B file(s), 0 media file(s), 2 artifact file(s) and 0 other file(s)"
      ]
     },
     "metadata": {},
     "output_type": "display_data"
    },
    {
     "data": {
      "text/plain": [
       "<IPython.core.display.HTML object>"
      ],
      "text/html": [
       "Find logs at: <code>.\\wandb\\run-20250306_110200-3gl3tdia\\logs</code>"
      ]
     },
     "metadata": {},
     "output_type": "display_data"
    }
   ],
   "execution_count": 60
  },
  {
   "cell_type": "code",
   "metadata": {
    "id": "SdIDpnASq5xF",
    "ExecuteTime": {
     "end_time": "2025-03-06T10:12:00.519087Z",
     "start_time": "2025-03-06T10:03:45.110560Z"
    }
   },
   "source": [
    "EPOCHS = 50\n",
    "wandb_logger = WandbLogger(\n",
    "    project=\"TP4 MNIST\",\n",
    "    name=\"mlp1_50epochs\",\n",
    "    log_model=True,\n",
    ")\n",
    "optimizer = torch.optim.SGD\n",
    "model1  = MNISTModel(mlp1,optimizer=optimizer,lr=0.01)\n",
    "\n",
    "# Initialize a trainer\n",
    "trainer = pl.Trainer(\n",
    "    accelerator=ACCELERATOR,\n",
    "    max_epochs=EPOCHS,\n",
    "    logger=wandb_logger,\n",
    ")\n",
    "# Train the model ⚡\n",
    "trainer.fit(model1, train_loader, val_loader)"
   ],
   "outputs": [
    {
     "name": "stderr",
     "output_type": "stream",
     "text": [
      "GPU available: True (cuda), used: True\n",
      "TPU available: False, using: 0 TPU cores\n",
      "HPU available: False, using: 0 HPUs\n"
     ]
    },
    {
     "data": {
      "text/plain": [
       "<IPython.core.display.HTML object>"
      ],
      "text/html": [
       "Tracking run with wandb version 0.19.7"
      ]
     },
     "metadata": {},
     "output_type": "display_data"
    },
    {
     "data": {
      "text/plain": [
       "<IPython.core.display.HTML object>"
      ],
      "text/html": [
       "Run data is saved locally in <code>.\\wandb\\run-20250306_110345-rzm03t0z</code>"
      ]
     },
     "metadata": {},
     "output_type": "display_data"
    },
    {
     "data": {
      "text/plain": [
       "<IPython.core.display.HTML object>"
      ],
      "text/html": [
       "Syncing run <strong><a href='https://wandb.ai/maximilien003-universit-de-mons/TP4%20MNIST/runs/rzm03t0z' target=\"_blank\">mlp1_50epochs</a></strong> to <a href='https://wandb.ai/maximilien003-universit-de-mons/TP4%20MNIST' target=\"_blank\">Weights & Biases</a> (<a href='https://wandb.me/developer-guide' target=\"_blank\">docs</a>)<br>"
      ]
     },
     "metadata": {},
     "output_type": "display_data"
    },
    {
     "data": {
      "text/plain": [
       "<IPython.core.display.HTML object>"
      ],
      "text/html": [
       " View project at <a href='https://wandb.ai/maximilien003-universit-de-mons/TP4%20MNIST' target=\"_blank\">https://wandb.ai/maximilien003-universit-de-mons/TP4%20MNIST</a>"
      ]
     },
     "metadata": {},
     "output_type": "display_data"
    },
    {
     "data": {
      "text/plain": [
       "<IPython.core.display.HTML object>"
      ],
      "text/html": [
       " View run at <a href='https://wandb.ai/maximilien003-universit-de-mons/TP4%20MNIST/runs/rzm03t0z' target=\"_blank\">https://wandb.ai/maximilien003-universit-de-mons/TP4%20MNIST/runs/rzm03t0z</a>"
      ]
     },
     "metadata": {},
     "output_type": "display_data"
    },
    {
     "name": "stderr",
     "output_type": "stream",
     "text": [
      "LOCAL_RANK: 0 - CUDA_VISIBLE_DEVICES: [0]\n",
      "\n",
      "  | Name      | Type               | Params | Mode \n",
      "---------------------------------------------------------\n",
      "0 | model     | MLP1               | 7.9 K  | train\n",
      "1 | train_acc | MulticlassAccuracy | 0      | train\n",
      "2 | val_acc   | MulticlassAccuracy | 0      | train\n",
      "3 | test_acc  | MulticlassAccuracy | 0      | train\n",
      "---------------------------------------------------------\n",
      "7.9 K     Trainable params\n",
      "0         Non-trainable params\n",
      "7.9 K     Total params\n",
      "0.031     Total estimated model params size (MB)\n",
      "5         Modules in train mode\n",
      "0         Modules in eval mode\n"
     ]
    },
    {
     "data": {
      "text/plain": [
       "Sanity Checking: |          | 0/? [00:00<?, ?it/s]"
      ],
      "application/vnd.jupyter.widget-view+json": {
       "version_major": 2,
       "version_minor": 0,
       "model_id": "c5ba66c1d42546e18e2de0dd642c95c8"
      }
     },
     "metadata": {},
     "output_type": "display_data"
    },
    {
     "data": {
      "text/plain": [
       "Training: |          | 0/? [00:00<?, ?it/s]"
      ],
      "application/vnd.jupyter.widget-view+json": {
       "version_major": 2,
       "version_minor": 0,
       "model_id": "ada0b79805754ca28363942866ace0ee"
      }
     },
     "metadata": {},
     "output_type": "display_data"
    },
    {
     "data": {
      "text/plain": [
       "Validation: |          | 0/? [00:00<?, ?it/s]"
      ],
      "application/vnd.jupyter.widget-view+json": {
       "version_major": 2,
       "version_minor": 0,
       "model_id": "340844a900134ed1818ad7a5693a9a95"
      }
     },
     "metadata": {},
     "output_type": "display_data"
    },
    {
     "data": {
      "text/plain": [
       "Validation: |          | 0/? [00:00<?, ?it/s]"
      ],
      "application/vnd.jupyter.widget-view+json": {
       "version_major": 2,
       "version_minor": 0,
       "model_id": "73e1827977bc4897801d4fb0074878a6"
      }
     },
     "metadata": {},
     "output_type": "display_data"
    },
    {
     "data": {
      "text/plain": [
       "Validation: |          | 0/? [00:00<?, ?it/s]"
      ],
      "application/vnd.jupyter.widget-view+json": {
       "version_major": 2,
       "version_minor": 0,
       "model_id": "0d7b2fcf85074050a0d33bf502160733"
      }
     },
     "metadata": {},
     "output_type": "display_data"
    },
    {
     "data": {
      "text/plain": [
       "Validation: |          | 0/? [00:00<?, ?it/s]"
      ],
      "application/vnd.jupyter.widget-view+json": {
       "version_major": 2,
       "version_minor": 0,
       "model_id": "d10dc04531b4421fa0324b26c79ce71f"
      }
     },
     "metadata": {},
     "output_type": "display_data"
    },
    {
     "data": {
      "text/plain": [
       "Validation: |          | 0/? [00:00<?, ?it/s]"
      ],
      "application/vnd.jupyter.widget-view+json": {
       "version_major": 2,
       "version_minor": 0,
       "model_id": "642eab736294451c9f333cfdd3518d52"
      }
     },
     "metadata": {},
     "output_type": "display_data"
    },
    {
     "data": {
      "text/plain": [
       "Validation: |          | 0/? [00:00<?, ?it/s]"
      ],
      "application/vnd.jupyter.widget-view+json": {
       "version_major": 2,
       "version_minor": 0,
       "model_id": "549c57e2f0fc4f01aef2ea0d8fcacc50"
      }
     },
     "metadata": {},
     "output_type": "display_data"
    },
    {
     "data": {
      "text/plain": [
       "Validation: |          | 0/? [00:00<?, ?it/s]"
      ],
      "application/vnd.jupyter.widget-view+json": {
       "version_major": 2,
       "version_minor": 0,
       "model_id": "5272301f7af447b0aa5412fc75b35ad6"
      }
     },
     "metadata": {},
     "output_type": "display_data"
    },
    {
     "data": {
      "text/plain": [
       "Validation: |          | 0/? [00:00<?, ?it/s]"
      ],
      "application/vnd.jupyter.widget-view+json": {
       "version_major": 2,
       "version_minor": 0,
       "model_id": "f935062730b441af9eafd05d8ef0ffff"
      }
     },
     "metadata": {},
     "output_type": "display_data"
    },
    {
     "data": {
      "text/plain": [
       "Validation: |          | 0/? [00:00<?, ?it/s]"
      ],
      "application/vnd.jupyter.widget-view+json": {
       "version_major": 2,
       "version_minor": 0,
       "model_id": "40f86e5c9a9b43959e2f4323f6caef62"
      }
     },
     "metadata": {},
     "output_type": "display_data"
    },
    {
     "data": {
      "text/plain": [
       "Validation: |          | 0/? [00:00<?, ?it/s]"
      ],
      "application/vnd.jupyter.widget-view+json": {
       "version_major": 2,
       "version_minor": 0,
       "model_id": "741995b8b1d7481480f70275b6bcdc15"
      }
     },
     "metadata": {},
     "output_type": "display_data"
    },
    {
     "data": {
      "text/plain": [
       "Validation: |          | 0/? [00:00<?, ?it/s]"
      ],
      "application/vnd.jupyter.widget-view+json": {
       "version_major": 2,
       "version_minor": 0,
       "model_id": "f34f663eabb3485b85c36fdedb2b4bf8"
      }
     },
     "metadata": {},
     "output_type": "display_data"
    },
    {
     "data": {
      "text/plain": [
       "Validation: |          | 0/? [00:00<?, ?it/s]"
      ],
      "application/vnd.jupyter.widget-view+json": {
       "version_major": 2,
       "version_minor": 0,
       "model_id": "dc099dcb96074bb5a74dc75c254c7ee9"
      }
     },
     "metadata": {},
     "output_type": "display_data"
    },
    {
     "data": {
      "text/plain": [
       "Validation: |          | 0/? [00:00<?, ?it/s]"
      ],
      "application/vnd.jupyter.widget-view+json": {
       "version_major": 2,
       "version_minor": 0,
       "model_id": "8867a90f79834479be09e141ebb6c69d"
      }
     },
     "metadata": {},
     "output_type": "display_data"
    },
    {
     "data": {
      "text/plain": [
       "Validation: |          | 0/? [00:00<?, ?it/s]"
      ],
      "application/vnd.jupyter.widget-view+json": {
       "version_major": 2,
       "version_minor": 0,
       "model_id": "5e4fa04a647f40419c0260087d63d0bd"
      }
     },
     "metadata": {},
     "output_type": "display_data"
    },
    {
     "data": {
      "text/plain": [
       "Validation: |          | 0/? [00:00<?, ?it/s]"
      ],
      "application/vnd.jupyter.widget-view+json": {
       "version_major": 2,
       "version_minor": 0,
       "model_id": "096884eb96194a97984e7fced613f5d7"
      }
     },
     "metadata": {},
     "output_type": "display_data"
    },
    {
     "data": {
      "text/plain": [
       "Validation: |          | 0/? [00:00<?, ?it/s]"
      ],
      "application/vnd.jupyter.widget-view+json": {
       "version_major": 2,
       "version_minor": 0,
       "model_id": "a162e34c9f244c21801eaa77d3f7d35a"
      }
     },
     "metadata": {},
     "output_type": "display_data"
    },
    {
     "data": {
      "text/plain": [
       "Validation: |          | 0/? [00:00<?, ?it/s]"
      ],
      "application/vnd.jupyter.widget-view+json": {
       "version_major": 2,
       "version_minor": 0,
       "model_id": "e06e97ed5fbe42519cd184c50b9c94e6"
      }
     },
     "metadata": {},
     "output_type": "display_data"
    },
    {
     "data": {
      "text/plain": [
       "Validation: |          | 0/? [00:00<?, ?it/s]"
      ],
      "application/vnd.jupyter.widget-view+json": {
       "version_major": 2,
       "version_minor": 0,
       "model_id": "51f47238a4eb4e0a98d36e5a884f08d0"
      }
     },
     "metadata": {},
     "output_type": "display_data"
    },
    {
     "data": {
      "text/plain": [
       "Validation: |          | 0/? [00:00<?, ?it/s]"
      ],
      "application/vnd.jupyter.widget-view+json": {
       "version_major": 2,
       "version_minor": 0,
       "model_id": "af01e560316c4535be591f4f92d39c33"
      }
     },
     "metadata": {},
     "output_type": "display_data"
    },
    {
     "data": {
      "text/plain": [
       "Validation: |          | 0/? [00:00<?, ?it/s]"
      ],
      "application/vnd.jupyter.widget-view+json": {
       "version_major": 2,
       "version_minor": 0,
       "model_id": "a88b160e80b6475f97c9528c7c8b4d29"
      }
     },
     "metadata": {},
     "output_type": "display_data"
    },
    {
     "data": {
      "text/plain": [
       "Validation: |          | 0/? [00:00<?, ?it/s]"
      ],
      "application/vnd.jupyter.widget-view+json": {
       "version_major": 2,
       "version_minor": 0,
       "model_id": "4dacf8419993413e90072cc2892e17ad"
      }
     },
     "metadata": {},
     "output_type": "display_data"
    },
    {
     "data": {
      "text/plain": [
       "Validation: |          | 0/? [00:00<?, ?it/s]"
      ],
      "application/vnd.jupyter.widget-view+json": {
       "version_major": 2,
       "version_minor": 0,
       "model_id": "2acd295c02374dc5b665ed976d77c412"
      }
     },
     "metadata": {},
     "output_type": "display_data"
    },
    {
     "data": {
      "text/plain": [
       "Validation: |          | 0/? [00:00<?, ?it/s]"
      ],
      "application/vnd.jupyter.widget-view+json": {
       "version_major": 2,
       "version_minor": 0,
       "model_id": "40a7285bd39f475db15fc0e23c9424e9"
      }
     },
     "metadata": {},
     "output_type": "display_data"
    },
    {
     "data": {
      "text/plain": [
       "Validation: |          | 0/? [00:00<?, ?it/s]"
      ],
      "application/vnd.jupyter.widget-view+json": {
       "version_major": 2,
       "version_minor": 0,
       "model_id": "372c8934ca694bb89005c19bcdcc1521"
      }
     },
     "metadata": {},
     "output_type": "display_data"
    },
    {
     "data": {
      "text/plain": [
       "Validation: |          | 0/? [00:00<?, ?it/s]"
      ],
      "application/vnd.jupyter.widget-view+json": {
       "version_major": 2,
       "version_minor": 0,
       "model_id": "9c6f78dfffc54b71825b9e5fc6f6bcfc"
      }
     },
     "metadata": {},
     "output_type": "display_data"
    },
    {
     "data": {
      "text/plain": [
       "Validation: |          | 0/? [00:00<?, ?it/s]"
      ],
      "application/vnd.jupyter.widget-view+json": {
       "version_major": 2,
       "version_minor": 0,
       "model_id": "6dad4f8ddb4e47a4b787358f96d656dc"
      }
     },
     "metadata": {},
     "output_type": "display_data"
    },
    {
     "data": {
      "text/plain": [
       "Validation: |          | 0/? [00:00<?, ?it/s]"
      ],
      "application/vnd.jupyter.widget-view+json": {
       "version_major": 2,
       "version_minor": 0,
       "model_id": "469a977ae13048c284fe6856588d4bb0"
      }
     },
     "metadata": {},
     "output_type": "display_data"
    },
    {
     "data": {
      "text/plain": [
       "Validation: |          | 0/? [00:00<?, ?it/s]"
      ],
      "application/vnd.jupyter.widget-view+json": {
       "version_major": 2,
       "version_minor": 0,
       "model_id": "89866f1ad46f4143a8651f5c2ee617ce"
      }
     },
     "metadata": {},
     "output_type": "display_data"
    },
    {
     "data": {
      "text/plain": [
       "Validation: |          | 0/? [00:00<?, ?it/s]"
      ],
      "application/vnd.jupyter.widget-view+json": {
       "version_major": 2,
       "version_minor": 0,
       "model_id": "700167d00af5422191fb6b4f53b91132"
      }
     },
     "metadata": {},
     "output_type": "display_data"
    },
    {
     "data": {
      "text/plain": [
       "Validation: |          | 0/? [00:00<?, ?it/s]"
      ],
      "application/vnd.jupyter.widget-view+json": {
       "version_major": 2,
       "version_minor": 0,
       "model_id": "d0842e8521c34c8c87bb2761400e5ab4"
      }
     },
     "metadata": {},
     "output_type": "display_data"
    },
    {
     "data": {
      "text/plain": [
       "Validation: |          | 0/? [00:00<?, ?it/s]"
      ],
      "application/vnd.jupyter.widget-view+json": {
       "version_major": 2,
       "version_minor": 0,
       "model_id": "84c23541e5b8421f840e2d6b3f380f09"
      }
     },
     "metadata": {},
     "output_type": "display_data"
    },
    {
     "data": {
      "text/plain": [
       "Validation: |          | 0/? [00:00<?, ?it/s]"
      ],
      "application/vnd.jupyter.widget-view+json": {
       "version_major": 2,
       "version_minor": 0,
       "model_id": "d14027b3f2a1438199a33e58d5089d4a"
      }
     },
     "metadata": {},
     "output_type": "display_data"
    },
    {
     "data": {
      "text/plain": [
       "Validation: |          | 0/? [00:00<?, ?it/s]"
      ],
      "application/vnd.jupyter.widget-view+json": {
       "version_major": 2,
       "version_minor": 0,
       "model_id": "96a056860ad14d8c967bd30839cf28f5"
      }
     },
     "metadata": {},
     "output_type": "display_data"
    },
    {
     "data": {
      "text/plain": [
       "Validation: |          | 0/? [00:00<?, ?it/s]"
      ],
      "application/vnd.jupyter.widget-view+json": {
       "version_major": 2,
       "version_minor": 0,
       "model_id": "043be0c1d15740babb10c662df1c6ab7"
      }
     },
     "metadata": {},
     "output_type": "display_data"
    },
    {
     "data": {
      "text/plain": [
       "Validation: |          | 0/? [00:00<?, ?it/s]"
      ],
      "application/vnd.jupyter.widget-view+json": {
       "version_major": 2,
       "version_minor": 0,
       "model_id": "0d878bdb308c436181e35f2f0c49c458"
      }
     },
     "metadata": {},
     "output_type": "display_data"
    },
    {
     "data": {
      "text/plain": [
       "Validation: |          | 0/? [00:00<?, ?it/s]"
      ],
      "application/vnd.jupyter.widget-view+json": {
       "version_major": 2,
       "version_minor": 0,
       "model_id": "61eab4567e2547c7a1f794089fbb5346"
      }
     },
     "metadata": {},
     "output_type": "display_data"
    },
    {
     "data": {
      "text/plain": [
       "Validation: |          | 0/? [00:00<?, ?it/s]"
      ],
      "application/vnd.jupyter.widget-view+json": {
       "version_major": 2,
       "version_minor": 0,
       "model_id": "698a89e0e8e94e37926ee986640461eb"
      }
     },
     "metadata": {},
     "output_type": "display_data"
    },
    {
     "data": {
      "text/plain": [
       "Validation: |          | 0/? [00:00<?, ?it/s]"
      ],
      "application/vnd.jupyter.widget-view+json": {
       "version_major": 2,
       "version_minor": 0,
       "model_id": "f549bbd2cb0c48f7ae794c2351f2fa3d"
      }
     },
     "metadata": {},
     "output_type": "display_data"
    },
    {
     "data": {
      "text/plain": [
       "Validation: |          | 0/? [00:00<?, ?it/s]"
      ],
      "application/vnd.jupyter.widget-view+json": {
       "version_major": 2,
       "version_minor": 0,
       "model_id": "f4e8e874d3024d8a96028245129abaf8"
      }
     },
     "metadata": {},
     "output_type": "display_data"
    },
    {
     "data": {
      "text/plain": [
       "Validation: |          | 0/? [00:00<?, ?it/s]"
      ],
      "application/vnd.jupyter.widget-view+json": {
       "version_major": 2,
       "version_minor": 0,
       "model_id": "a23850058fa144cb956570d43ceb95d4"
      }
     },
     "metadata": {},
     "output_type": "display_data"
    },
    {
     "data": {
      "text/plain": [
       "Validation: |          | 0/? [00:00<?, ?it/s]"
      ],
      "application/vnd.jupyter.widget-view+json": {
       "version_major": 2,
       "version_minor": 0,
       "model_id": "65e3780517634106a8a59e5d6b0cef28"
      }
     },
     "metadata": {},
     "output_type": "display_data"
    },
    {
     "data": {
      "text/plain": [
       "Validation: |          | 0/? [00:00<?, ?it/s]"
      ],
      "application/vnd.jupyter.widget-view+json": {
       "version_major": 2,
       "version_minor": 0,
       "model_id": "86096e1594454874bada6e7eb7b1c4f9"
      }
     },
     "metadata": {},
     "output_type": "display_data"
    },
    {
     "data": {
      "text/plain": [
       "Validation: |          | 0/? [00:00<?, ?it/s]"
      ],
      "application/vnd.jupyter.widget-view+json": {
       "version_major": 2,
       "version_minor": 0,
       "model_id": "dbc5e6847efc4343a028cd27d5983afc"
      }
     },
     "metadata": {},
     "output_type": "display_data"
    },
    {
     "data": {
      "text/plain": [
       "Validation: |          | 0/? [00:00<?, ?it/s]"
      ],
      "application/vnd.jupyter.widget-view+json": {
       "version_major": 2,
       "version_minor": 0,
       "model_id": "c9b05a66bfc546f4b9a5969238a34619"
      }
     },
     "metadata": {},
     "output_type": "display_data"
    },
    {
     "data": {
      "text/plain": [
       "Validation: |          | 0/? [00:00<?, ?it/s]"
      ],
      "application/vnd.jupyter.widget-view+json": {
       "version_major": 2,
       "version_minor": 0,
       "model_id": "59be90cb6b2148d1838e5f1d45b7651c"
      }
     },
     "metadata": {},
     "output_type": "display_data"
    },
    {
     "data": {
      "text/plain": [
       "Validation: |          | 0/? [00:00<?, ?it/s]"
      ],
      "application/vnd.jupyter.widget-view+json": {
       "version_major": 2,
       "version_minor": 0,
       "model_id": "001d4b0b6fe44a1cb33420fc7297b8d0"
      }
     },
     "metadata": {},
     "output_type": "display_data"
    },
    {
     "data": {
      "text/plain": [
       "Validation: |          | 0/? [00:00<?, ?it/s]"
      ],
      "application/vnd.jupyter.widget-view+json": {
       "version_major": 2,
       "version_minor": 0,
       "model_id": "538a9aafa2c04d41804ab6bfe46b2874"
      }
     },
     "metadata": {},
     "output_type": "display_data"
    },
    {
     "data": {
      "text/plain": [
       "Validation: |          | 0/? [00:00<?, ?it/s]"
      ],
      "application/vnd.jupyter.widget-view+json": {
       "version_major": 2,
       "version_minor": 0,
       "model_id": "e79005496c9e41c692b4e8e2ad526bf6"
      }
     },
     "metadata": {},
     "output_type": "display_data"
    },
    {
     "data": {
      "text/plain": [
       "Validation: |          | 0/? [00:00<?, ?it/s]"
      ],
      "application/vnd.jupyter.widget-view+json": {
       "version_major": 2,
       "version_minor": 0,
       "model_id": "ea2ffccff04c430c92ed18a7ecdbc2a6"
      }
     },
     "metadata": {},
     "output_type": "display_data"
    },
    {
     "data": {
      "text/plain": [
       "Validation: |          | 0/? [00:00<?, ?it/s]"
      ],
      "application/vnd.jupyter.widget-view+json": {
       "version_major": 2,
       "version_minor": 0,
       "model_id": "63342f07fd974300bcd3a29587dfaf9d"
      }
     },
     "metadata": {},
     "output_type": "display_data"
    },
    {
     "name": "stderr",
     "output_type": "stream",
     "text": [
      "`Trainer.fit` stopped: `max_epochs=50` reached.\n"
     ]
    }
   ],
   "execution_count": 61
  },
  {
   "cell_type": "markdown",
   "source": [
    "## **Question 4b:vérifier/interpréter résultats d'entraînement de votre 1er modèle MLP via Wandb**"
   ],
   "metadata": {
    "id": "4JRGAVpXmN0M"
   }
  },
  {
   "metadata": {},
   "cell_type": "markdown",
   "source": "https://wandb.ai/maximilien003-universit-de-mons/TP4%20MNIST?nw=nwusermaximilien003"
  },
  {
   "cell_type": "markdown",
   "metadata": {
    "id": "GrsRrkRju9VQ"
   },
   "source": [
    "## **Question 5 : évaluer votre premier modèle avec les données de test**"
   ]
  },
  {
   "cell_type": "code",
   "metadata": {
    "id": "U0CARo-3-gOH",
    "ExecuteTime": {
     "end_time": "2025-03-06T10:12:04.413213Z",
     "start_time": "2025-03-06T10:12:00.541993Z"
    }
   },
   "source": [
    "trainer.test(model1, test_loader)\n",
    "wandb.finish()"
   ],
   "outputs": [
    {
     "name": "stderr",
     "output_type": "stream",
     "text": [
      "LOCAL_RANK: 0 - CUDA_VISIBLE_DEVICES: [0]\n"
     ]
    },
    {
     "data": {
      "text/plain": [
       "Testing: |          | 0/? [00:00<?, ?it/s]"
      ],
      "application/vnd.jupyter.widget-view+json": {
       "version_major": 2,
       "version_minor": 0,
       "model_id": "67b75210d5d34015b4181e0a3b8b7e69"
      }
     },
     "metadata": {},
     "output_type": "display_data"
    },
    {
     "name": "stdout",
     "output_type": "stream",
     "text": [
      "────────────────────────────────────────────────────────────────────────────────────────────────────────────────────────\r\n",
      "       Test metric             DataLoader 0\r\n",
      "────────────────────────────────────────────────────────────────────────────────────────────────────────────────────────\r\n",
      "        test_acc            0.9175533056259155\r\n",
      "        test_loss           0.28627413511276245\r\n",
      "────────────────────────────────────────────────────────────────────────────────────────────────────────────────────────\n"
     ]
    },
    {
     "data": {
      "text/plain": [
       "<IPython.core.display.HTML object>"
      ],
      "text/html": []
     },
     "metadata": {},
     "output_type": "display_data"
    },
    {
     "data": {
      "text/plain": [
       "<IPython.core.display.HTML object>"
      ],
      "text/html": [
       "<br>    <style><br>        .wandb-row {<br>            display: flex;<br>            flex-direction: row;<br>            flex-wrap: wrap;<br>            justify-content: flex-start;<br>            width: 100%;<br>        }<br>        .wandb-col {<br>            display: flex;<br>            flex-direction: column;<br>            flex-basis: 100%;<br>            flex: 1;<br>            padding: 10px;<br>        }<br>    </style><br><div class=\"wandb-row\"><div class=\"wandb-col\"><h3>Run history:</h3><br/><table class=\"wandb\"><tr><td>epoch</td><td>▁▁▁▁▂▂▂▂▂▂▃▃▃▃▃▃▃▄▄▄▄▄▄▅▅▅▅▅▅▆▆▆▆▆▆▇▇▇▇█</td></tr><tr><td>test_acc</td><td>▁</td></tr><tr><td>test_loss</td><td>▁</td></tr><tr><td>train_acc</td><td>▁▂▂▂▃▄▄▄▄▅▅▅▅▅▆▆▆▆▆▆▇▇▇▇▇▇▇▇▇▇▇▇▇███████</td></tr><tr><td>train_loss</td><td>█▇▇▇▆▆▅▅▅▅▄▄▄▄▄▃▃▃▃▃▃▃▂▂▂▂▂▂▂▂▂▂▂▁▁▁▁▁▁▁</td></tr><tr><td>trainer/global_step</td><td>▁▁▁▁▁▂▂▂▂▂▂▃▃▃▃▃▄▄▄▄▄▅▅▅▆▆▆▆▆▆▇▇▇▇▇▇████</td></tr><tr><td>val_acc</td><td>▁▁▂▂▃▃▄▄▄▄▅▅▅▅▅▅▆▆▆▆▆▆▇▇▇▇▇▇▇▇▇▇████████</td></tr><tr><td>val_loss</td><td>█▇▇▇▆▆▅▅▅▄▄▄▄▄▃▃▃▃▃▃▂▂▂▂▂▂▂▂▂▂▂▂▁▁▁▁▁▁▁▁</td></tr></table><br/></div><div class=\"wandb-col\"><h3>Run summary:</h3><br/><table class=\"wandb\"><tr><td>epoch</td><td>50</td></tr><tr><td>test_acc</td><td>0.91755</td></tr><tr><td>test_loss</td><td>0.28627</td></tr><tr><td>train_acc</td><td>0.91778</td></tr><tr><td>train_loss</td><td>0.28762</td></tr><tr><td>trainer/global_step</td><td>37500</td></tr><tr><td>val_acc</td><td>0.91221</td></tr><tr><td>val_loss</td><td>0.3006</td></tr></table><br/></div></div>"
      ]
     },
     "metadata": {},
     "output_type": "display_data"
    },
    {
     "data": {
      "text/plain": [
       "<IPython.core.display.HTML object>"
      ],
      "text/html": [
       " View run <strong style=\"color:#cdcd00\">mlp1_50epochs</strong> at: <a href='https://wandb.ai/maximilien003-universit-de-mons/TP4%20MNIST/runs/rzm03t0z' target=\"_blank\">https://wandb.ai/maximilien003-universit-de-mons/TP4%20MNIST/runs/rzm03t0z</a><br> View project at: <a href='https://wandb.ai/maximilien003-universit-de-mons/TP4%20MNIST' target=\"_blank\">https://wandb.ai/maximilien003-universit-de-mons/TP4%20MNIST</a><br>Synced 5 W&B file(s), 0 media file(s), 2 artifact file(s) and 0 other file(s)"
      ]
     },
     "metadata": {},
     "output_type": "display_data"
    },
    {
     "data": {
      "text/plain": [
       "<IPython.core.display.HTML object>"
      ],
      "text/html": [
       "Find logs at: <code>.\\wandb\\run-20250306_110345-rzm03t0z\\logs</code>"
      ]
     },
     "metadata": {},
     "output_type": "display_data"
    }
   ],
   "execution_count": 62
  },
  {
   "cell_type": "markdown",
   "source": [
    "---\n",
    "## **Partie II : MLP à plusieurs couches avec Sigmoid**"
   ],
   "metadata": {
    "id": "Oy9zxvVA-mxt"
   }
  },
  {
   "cell_type": "markdown",
   "metadata": {
    "id": "8X9mbuKy14TO"
   },
   "source": [
    "## **Question 6 : définir l'architecture neuronale à 5 couches avec Sigmoid (voire l'énonce)**"
   ]
  },
  {
   "cell_type": "code",
   "metadata": {
    "id": "9qLCvjf8RCqN",
    "ExecuteTime": {
     "end_time": "2025-03-06T10:18:50.384807Z",
     "start_time": "2025-03-06T10:18:50.379189Z"
    }
   },
   "source": [
    "class MLP2(nn.Module):\n",
    "    def __init__(self, input_size=784, hidden_sizes=[200, 100, 60, 30], output_size=10):\n",
    "        super(MLP2, self).__init__()\n",
    "\n",
    "        # Définir les couches linéaires\n",
    "        self.layer1 = nn.Linear(input_size, hidden_sizes[0])  # 784 -> 200\n",
    "        self.layer2 = nn.Linear(hidden_sizes[0], hidden_sizes[1])  # 200 -> 100\n",
    "        self.layer3 = nn.Linear(hidden_sizes[1], hidden_sizes[2])  # 100 -> 60\n",
    "        self.layer4 = nn.Linear(hidden_sizes[2], hidden_sizes[3])  # 60 -> 30\n",
    "        self.layer5 = nn.Linear(hidden_sizes[3], output_size)  # 30 -> 10\n",
    "\n",
    "        # Activation Sigmoid pour les couches cachées\n",
    "        self.sigmoid = nn.Sigmoid()\n",
    "\n",
    "    def forward(self, x):\n",
    "        # Aplatir l'entrée (par exemple, de (batch_size, 1, 28, 28) à (batch_size, 784) pour MNIST)\n",
    "        x = x.view(x.size(0), -1)\n",
    "\n",
    "        # Passer à travers les couches avec Sigmoid pour les couches cachées\n",
    "        x = torch.sigmoid(self.layer1(x)) # Couche 1 + Sigmoid\n",
    "        x = torch.sigmoid(self.layer2(x))  # Couche 2 + Sigmoid\n",
    "        x = torch.sigmoid(self.layer3(x))  # Couche 3 + Sigmoid\n",
    "        x = torch.sigmoid(self.layer4(x))  # Couche 4 + Sigmoid\n",
    "        x = self.layer5(x)  # Couche 5 (sortie, sans activation)\n",
    "\n",
    "        return x"
   ],
   "outputs": [],
   "execution_count": 14
  },
  {
   "cell_type": "markdown",
   "source": [
    "## **Question 7 : visualiser l'architecture de votre  deuxième modèle avec la fonction summary()**"
   ],
   "metadata": {
    "id": "Uz8IaZIQRI65"
   }
  },
  {
   "cell_type": "code",
   "metadata": {
    "id": "yOa0tsxXAuu_",
    "ExecuteTime": {
     "end_time": "2025-03-06T10:18:52.259032Z",
     "start_time": "2025-03-06T10:18:52.047014Z"
    }
   },
   "source": [
    "mlp2_deep_sigmoid = MLP2()\n",
    "summary(mlp2_deep_sigmoid,(1,28,28))"
   ],
   "outputs": [
    {
     "data": {
      "text/plain": [
       "==========================================================================================\n",
       "Layer (type:depth-idx)                   Output Shape              Param #\n",
       "==========================================================================================\n",
       "MLP2                                     [1, 10]                   --\n",
       "├─Linear: 1-1                            [1, 200]                  157,000\n",
       "├─Linear: 1-2                            [1, 100]                  20,100\n",
       "├─Linear: 1-3                            [1, 60]                   6,060\n",
       "├─Linear: 1-4                            [1, 30]                   1,830\n",
       "├─Linear: 1-5                            [1, 10]                   310\n",
       "==========================================================================================\n",
       "Total params: 185,300\n",
       "Trainable params: 185,300\n",
       "Non-trainable params: 0\n",
       "Total mult-adds (Units.MEGABYTES): 0.19\n",
       "==========================================================================================\n",
       "Input size (MB): 0.00\n",
       "Forward/backward pass size (MB): 0.00\n",
       "Params size (MB): 0.74\n",
       "Estimated Total Size (MB): 0.75\n",
       "=========================================================================================="
      ]
     },
     "execution_count": 15,
     "metadata": {},
     "output_type": "execute_result"
    }
   ],
   "execution_count": 15
  },
  {
   "cell_type": "markdown",
   "source": [
    "## **Question 8 : lancer l'entrainement avec SGD et lr=0.8**"
   ],
   "metadata": {
    "id": "EDbhMg15SUry"
   }
  },
  {
   "cell_type": "code",
   "metadata": {
    "id": "n2NulhHa1-gK",
    "ExecuteTime": {
     "end_time": "2025-03-06T10:20:46.754089Z",
     "start_time": "2025-03-06T10:18:54.909051Z"
    }
   },
   "source": [
    "# Fixer la seed pour la reproductibilité\n",
    "seed_everything(42, workers=True)\n",
    "\n",
    "# Définir les hyperparamètres\n",
    "EPOCHS = 10\n",
    "LR = 0.8\n",
    "\n",
    "# Définir l'optimiseur SGD\n",
    "optimizer = torch.optim.SGD\n",
    "\n",
    "# Instancier le module Lightning\n",
    "mnist_model = MNISTModel(mlp2_deep_sigmoid, optimizer, lr=LR)\n",
    "\n",
    "# Configurer le trainer avec WandbLogger\n",
    "wandb_logger = WandbLogger(\n",
    "    project=\"TP4 MNIST\",\n",
    "    name=\"mlp2_deep_sigmoid\",\n",
    "    log_model=True,\n",
    ")\n",
    "\n",
    "trainer = pl.Trainer(\n",
    "    max_epochs=EPOCHS,\n",
    "    accelerator=ACCELERATOR,\n",
    "    logger=wandb_logger,\n",
    "    enable_progress_bar=True,\n",
    "    enable_model_summary=True,\n",
    ")\n",
    "\n",
    "# Lancer l'entraînement\n",
    "trainer.fit(mnist_model, train_loader, val_loader)"
   ],
   "outputs": [
    {
     "name": "stderr",
     "output_type": "stream",
     "text": [
      "Seed set to 42\n",
      "GPU available: True (cuda), used: True\n",
      "TPU available: False, using: 0 TPU cores\n",
      "HPU available: False, using: 0 HPUs\n",
      "You are using a CUDA device ('NVIDIA GeForce RTX 3070') that has Tensor Cores. To properly utilize them, you should set `torch.set_float32_matmul_precision('medium' | 'high')` which will trade-off precision for performance. For more details, read https://pytorch.org/docs/stable/generated/torch.set_float32_matmul_precision.html#torch.set_float32_matmul_precision\n"
     ]
    },
    {
     "data": {
      "text/plain": [
       "<IPython.core.display.HTML object>"
      ],
      "text/html": [
       "Tracking run with wandb version 0.19.7"
      ]
     },
     "metadata": {},
     "output_type": "display_data"
    },
    {
     "data": {
      "text/plain": [
       "<IPython.core.display.HTML object>"
      ],
      "text/html": [
       "Run data is saved locally in <code>.\\wandb\\run-20250306_111854-bais5tts</code>"
      ]
     },
     "metadata": {},
     "output_type": "display_data"
    },
    {
     "data": {
      "text/plain": [
       "<IPython.core.display.HTML object>"
      ],
      "text/html": [
       "Syncing run <strong><a href='https://wandb.ai/maximilien003-universit-de-mons/TP4%20MNIST/runs/bais5tts' target=\"_blank\">mlp2_deep_sigmoid</a></strong> to <a href='https://wandb.ai/maximilien003-universit-de-mons/TP4%20MNIST' target=\"_blank\">Weights & Biases</a> (<a href='https://wandb.me/developer-guide' target=\"_blank\">docs</a>)<br>"
      ]
     },
     "metadata": {},
     "output_type": "display_data"
    },
    {
     "data": {
      "text/plain": [
       "<IPython.core.display.HTML object>"
      ],
      "text/html": [
       " View project at <a href='https://wandb.ai/maximilien003-universit-de-mons/TP4%20MNIST' target=\"_blank\">https://wandb.ai/maximilien003-universit-de-mons/TP4%20MNIST</a>"
      ]
     },
     "metadata": {},
     "output_type": "display_data"
    },
    {
     "data": {
      "text/plain": [
       "<IPython.core.display.HTML object>"
      ],
      "text/html": [
       " View run at <a href='https://wandb.ai/maximilien003-universit-de-mons/TP4%20MNIST/runs/bais5tts' target=\"_blank\">https://wandb.ai/maximilien003-universit-de-mons/TP4%20MNIST/runs/bais5tts</a>"
      ]
     },
     "metadata": {},
     "output_type": "display_data"
    },
    {
     "name": "stderr",
     "output_type": "stream",
     "text": [
      "LOCAL_RANK: 0 - CUDA_VISIBLE_DEVICES: [0]\n",
      "\n",
      "  | Name      | Type               | Params | Mode \n",
      "---------------------------------------------------------\n",
      "0 | model     | MLP2               | 185 K  | train\n",
      "1 | train_acc | MulticlassAccuracy | 0      | train\n",
      "2 | val_acc   | MulticlassAccuracy | 0      | train\n",
      "3 | test_acc  | MulticlassAccuracy | 0      | train\n",
      "---------------------------------------------------------\n",
      "185 K     Trainable params\n",
      "0         Non-trainable params\n",
      "185 K     Total params\n",
      "0.741     Total estimated model params size (MB)\n",
      "10        Modules in train mode\n",
      "0         Modules in eval mode\n"
     ]
    },
    {
     "data": {
      "text/plain": [
       "Sanity Checking: |          | 0/? [00:00<?, ?it/s]"
      ],
      "application/vnd.jupyter.widget-view+json": {
       "version_major": 2,
       "version_minor": 0,
       "model_id": "9e0300cbb46040bf84b4f8860a2d2d9f"
      }
     },
     "metadata": {},
     "output_type": "display_data"
    },
    {
     "name": "stderr",
     "output_type": "stream",
     "text": [
      "C:\\Users\\maxim\\OneDrive\\Documents\\UMONS\\BAB3\\Q2 - Intelligence Artificielle\\.venv\\Lib\\site-packages\\pytorch_lightning\\trainer\\connectors\\data_connector.py:425: The 'val_dataloader' does not have many workers which may be a bottleneck. Consider increasing the value of the `num_workers` argument` to `num_workers=15` in the `DataLoader` to improve performance.\n",
      "C:\\Users\\maxim\\OneDrive\\Documents\\UMONS\\BAB3\\Q2 - Intelligence Artificielle\\.venv\\Lib\\site-packages\\pytorch_lightning\\trainer\\connectors\\data_connector.py:425: The 'train_dataloader' does not have many workers which may be a bottleneck. Consider increasing the value of the `num_workers` argument` to `num_workers=15` in the `DataLoader` to improve performance.\n"
     ]
    },
    {
     "data": {
      "text/plain": [
       "Training: |          | 0/? [00:00<?, ?it/s]"
      ],
      "application/vnd.jupyter.widget-view+json": {
       "version_major": 2,
       "version_minor": 0,
       "model_id": "e98cfaa3877d459ca7264108358cae31"
      }
     },
     "metadata": {},
     "output_type": "display_data"
    },
    {
     "data": {
      "text/plain": [
       "Validation: |          | 0/? [00:00<?, ?it/s]"
      ],
      "application/vnd.jupyter.widget-view+json": {
       "version_major": 2,
       "version_minor": 0,
       "model_id": "cae7e4cc437e4fca9a8a56c8c551f5c4"
      }
     },
     "metadata": {},
     "output_type": "display_data"
    },
    {
     "data": {
      "text/plain": [
       "Validation: |          | 0/? [00:00<?, ?it/s]"
      ],
      "application/vnd.jupyter.widget-view+json": {
       "version_major": 2,
       "version_minor": 0,
       "model_id": "4aa520d9797f4b6c8b6edf0cd7d67f38"
      }
     },
     "metadata": {},
     "output_type": "display_data"
    },
    {
     "data": {
      "text/plain": [
       "Validation: |          | 0/? [00:00<?, ?it/s]"
      ],
      "application/vnd.jupyter.widget-view+json": {
       "version_major": 2,
       "version_minor": 0,
       "model_id": "d9455b78e13b435686a8aff8e53955de"
      }
     },
     "metadata": {},
     "output_type": "display_data"
    },
    {
     "data": {
      "text/plain": [
       "Validation: |          | 0/? [00:00<?, ?it/s]"
      ],
      "application/vnd.jupyter.widget-view+json": {
       "version_major": 2,
       "version_minor": 0,
       "model_id": "1fbc42936b8a4fcf8e47e1e7150f8570"
      }
     },
     "metadata": {},
     "output_type": "display_data"
    },
    {
     "data": {
      "text/plain": [
       "Validation: |          | 0/? [00:00<?, ?it/s]"
      ],
      "application/vnd.jupyter.widget-view+json": {
       "version_major": 2,
       "version_minor": 0,
       "model_id": "4746729544e04abc9fd35cdf157a61f4"
      }
     },
     "metadata": {},
     "output_type": "display_data"
    },
    {
     "data": {
      "text/plain": [
       "Validation: |          | 0/? [00:00<?, ?it/s]"
      ],
      "application/vnd.jupyter.widget-view+json": {
       "version_major": 2,
       "version_minor": 0,
       "model_id": "8cb497b772364062807e8ff441703a46"
      }
     },
     "metadata": {},
     "output_type": "display_data"
    },
    {
     "data": {
      "text/plain": [
       "Validation: |          | 0/? [00:00<?, ?it/s]"
      ],
      "application/vnd.jupyter.widget-view+json": {
       "version_major": 2,
       "version_minor": 0,
       "model_id": "4fb11407a7084ffd9baab8aadb9ecfe9"
      }
     },
     "metadata": {},
     "output_type": "display_data"
    },
    {
     "data": {
      "text/plain": [
       "Validation: |          | 0/? [00:00<?, ?it/s]"
      ],
      "application/vnd.jupyter.widget-view+json": {
       "version_major": 2,
       "version_minor": 0,
       "model_id": "f62787a4931c4b55b551b19acce3f009"
      }
     },
     "metadata": {},
     "output_type": "display_data"
    },
    {
     "data": {
      "text/plain": [
       "Validation: |          | 0/? [00:00<?, ?it/s]"
      ],
      "application/vnd.jupyter.widget-view+json": {
       "version_major": 2,
       "version_minor": 0,
       "model_id": "c58a5f769af74681b4ca7f5266ee9d98"
      }
     },
     "metadata": {},
     "output_type": "display_data"
    },
    {
     "data": {
      "text/plain": [
       "Validation: |          | 0/? [00:00<?, ?it/s]"
      ],
      "application/vnd.jupyter.widget-view+json": {
       "version_major": 2,
       "version_minor": 0,
       "model_id": "e0b20579d2bb487a9ef4d5e0e4f9c571"
      }
     },
     "metadata": {},
     "output_type": "display_data"
    },
    {
     "name": "stderr",
     "output_type": "stream",
     "text": [
      "`Trainer.fit` stopped: `max_epochs=10` reached.\n"
     ]
    }
   ],
   "execution_count": 16
  },
  {
   "cell_type": "markdown",
   "source": [
    "## **Question 8b:vérifier/interpréter résultat d'entraînement de votre 2ème modèle MLP via Wandb**"
   ],
   "metadata": {
    "id": "yMiWsLd_mwfI"
   }
  },
  {
   "metadata": {},
   "cell_type": "markdown",
   "source": "https://wandb.ai/maximilien003-universit-de-mons/TP4%20MNIST?nw=nwusermaximilien003"
  },
  {
   "cell_type": "markdown",
   "source": [
    "## **Question 9 : évaluer votre deuxième modèle avec les données de test**"
   ],
   "metadata": {
    "id": "Pfz5DL8vYDCu"
   }
  },
  {
   "cell_type": "code",
   "metadata": {
    "id": "txlfGLIo6I9X",
    "ExecuteTime": {
     "end_time": "2025-03-06T10:22:01.285685Z",
     "start_time": "2025-03-06T10:21:57.249185Z"
    }
   },
   "source": [
    "trainer.test(mnist_model, test_loader)\n",
    "wandb.finish()"
   ],
   "outputs": [
    {
     "name": "stderr",
     "output_type": "stream",
     "text": [
      "LOCAL_RANK: 0 - CUDA_VISIBLE_DEVICES: [0]\n",
      "C:\\Users\\maxim\\OneDrive\\Documents\\UMONS\\BAB3\\Q2 - Intelligence Artificielle\\.venv\\Lib\\site-packages\\pytorch_lightning\\trainer\\connectors\\data_connector.py:425: The 'test_dataloader' does not have many workers which may be a bottleneck. Consider increasing the value of the `num_workers` argument` to `num_workers=15` in the `DataLoader` to improve performance.\n"
     ]
    },
    {
     "data": {
      "text/plain": [
       "Testing: |          | 0/? [00:00<?, ?it/s]"
      ],
      "application/vnd.jupyter.widget-view+json": {
       "version_major": 2,
       "version_minor": 0,
       "model_id": "33e5118963aa4e6190f4963b73a6d6db"
      }
     },
     "metadata": {},
     "output_type": "display_data"
    },
    {
     "name": "stdout",
     "output_type": "stream",
     "text": [
      "────────────────────────────────────────────────────────────────────────────────────────────────────────────────────────\r\n",
      "       Test metric             DataLoader 0\r\n",
      "────────────────────────────────────────────────────────────────────────────────────────────────────────────────────────\r\n",
      "        test_acc            0.9100523591041565\r\n",
      "        test_loss           0.3256043493747711\r\n",
      "────────────────────────────────────────────────────────────────────────────────────────────────────────────────────────\n"
     ]
    },
    {
     "data": {
      "text/plain": [
       "<IPython.core.display.HTML object>"
      ],
      "text/html": []
     },
     "metadata": {},
     "output_type": "display_data"
    },
    {
     "data": {
      "text/plain": [
       "<IPython.core.display.HTML object>"
      ],
      "text/html": [
       "<br>    <style><br>        .wandb-row {<br>            display: flex;<br>            flex-direction: row;<br>            flex-wrap: wrap;<br>            justify-content: flex-start;<br>            width: 100%;<br>        }<br>        .wandb-col {<br>            display: flex;<br>            flex-direction: column;<br>            flex-basis: 100%;<br>            flex: 1;<br>            padding: 10px;<br>        }<br>    </style><br><div class=\"wandb-row\"><div class=\"wandb-col\"><h3>Run history:</h3><br/><table class=\"wandb\"><tr><td>epoch</td><td>▁▁▂▂▂▂▃▃▄▄▅▅▅▅▆▆▇▇▇▇█</td></tr><tr><td>test_acc</td><td>▁</td></tr><tr><td>test_loss</td><td>▁</td></tr><tr><td>train_acc</td><td>▁▁▁▁▁▁▃▄▆█</td></tr><tr><td>train_loss</td><td>██████▆▄▂▁</td></tr><tr><td>trainer/global_step</td><td>▁▁▂▂▃▃▃▃▄▄▅▅▆▆▆▆▇▇███</td></tr><tr><td>val_acc</td><td>▂▁▁▁▁▁▄▆██</td></tr><tr><td>val_loss</td><td>██████▅▃▂▁</td></tr></table><br/></div><div class=\"wandb-col\"><h3>Run summary:</h3><br/><table class=\"wandb\"><tr><td>epoch</td><td>10</td></tr><tr><td>test_acc</td><td>0.91005</td></tr><tr><td>test_loss</td><td>0.3256</td></tr><tr><td>train_acc</td><td>0.87308</td></tr><tr><td>train_loss</td><td>0.44762</td></tr><tr><td>trainer/global_step</td><td>7500</td></tr><tr><td>val_acc</td><td>0.90307</td></tr><tr><td>val_loss</td><td>0.33478</td></tr></table><br/></div></div>"
      ]
     },
     "metadata": {},
     "output_type": "display_data"
    },
    {
     "data": {
      "text/plain": [
       "<IPython.core.display.HTML object>"
      ],
      "text/html": [
       " View run <strong style=\"color:#cdcd00\">mlp2_deep_sigmoid</strong> at: <a href='https://wandb.ai/maximilien003-universit-de-mons/TP4%20MNIST/runs/bais5tts' target=\"_blank\">https://wandb.ai/maximilien003-universit-de-mons/TP4%20MNIST/runs/bais5tts</a><br> View project at: <a href='https://wandb.ai/maximilien003-universit-de-mons/TP4%20MNIST' target=\"_blank\">https://wandb.ai/maximilien003-universit-de-mons/TP4%20MNIST</a><br>Synced 5 W&B file(s), 0 media file(s), 2 artifact file(s) and 0 other file(s)"
      ]
     },
     "metadata": {},
     "output_type": "display_data"
    },
    {
     "data": {
      "text/plain": [
       "<IPython.core.display.HTML object>"
      ],
      "text/html": [
       "Find logs at: <code>.\\wandb\\run-20250306_111854-bais5tts\\logs</code>"
      ]
     },
     "metadata": {},
     "output_type": "display_data"
    }
   ],
   "execution_count": 18
  },
  {
   "cell_type": "markdown",
   "source": [
    "---\n",
    "## **Partie III : MLP à plusieurs couches avec Relu**"
   ],
   "metadata": {
    "id": "xAqhOxt3mdjX"
   }
  },
  {
   "cell_type": "markdown",
   "source": [
    "## **Question 10 : définir l'architecture neuronale à 5 couches avec Relu (voire l'énonce)**"
   ],
   "metadata": {
    "id": "Jcb5fbPeX4y7"
   }
  },
  {
   "cell_type": "code",
   "source": [
    "class MLP3(nn.Module):\n",
    "    def __init__(self, input_size=784, hidden_sizes=[512, 256, 128, 64], output_size=10):\n",
    "        super(MLP3, self).__init__()\n",
    "\n",
    "        # Définir les couches linéaires\n",
    "        self.layer1 = nn.Linear(input_size, hidden_sizes[0])  # 784 -> 512\n",
    "        self.layer2 = nn.Linear(hidden_sizes[0], hidden_sizes[1])  # 512 -> 256\n",
    "        self.layer3 = nn.Linear(hidden_sizes[1], hidden_sizes[2])  # 256 -> 128\n",
    "        self.layer4 = nn.Linear(hidden_sizes[2], hidden_sizes[3])  # 128 -> 64\n",
    "        self.layer5 = nn.Linear(hidden_sizes[3], output_size)  # 64 -> 10\n",
    "\n",
    "        # Activation ReLU\n",
    "        self.relu = nn.ReLU()\n",
    "\n",
    "    def forward(self, x):\n",
    "        # Aplatir l'entrée (par exemple, de (batch_size, 1, 28, 28) à (batch_size, 784) pour MNIST)\n",
    "        x = x.view(x.size(0), -1)\n",
    "\n",
    "        # Passer à travers les couches avec activation ReLU\n",
    "        x = self.relu(self.layer1(x))  # Couche 1 + ReLU\n",
    "        x = self.relu(self.layer2(x))  # Couche 2 + ReLU\n",
    "        x = self.relu(self.layer3(x))  # Couche 3 + ReLU\n",
    "        x = self.relu(self.layer4(x))  # Couche 4 + ReLU\n",
    "        x = self.layer5(x)  # Couche 5 (sortie, sans activation)\n",
    "\n",
    "        return x"
   ],
   "metadata": {
    "id": "uT8Up058mazd",
    "ExecuteTime": {
     "end_time": "2025-03-06T10:22:03.900458Z",
     "start_time": "2025-03-06T10:22:03.895415Z"
    }
   },
   "outputs": [],
   "execution_count": 19
  },
  {
   "cell_type": "markdown",
   "source": [
    "## **Question 11 : visualiser l'architecture de votre  troisième modèle avec la fonction summary()**"
   ],
   "metadata": {
    "id": "BfD-r4Yxbw4S"
   }
  },
  {
   "cell_type": "code",
   "source": [
    "mlp3_deep_relu = MLP3()\n",
    "summary(mlp3_deep_relu,(1,28,28))"
   ],
   "metadata": {
    "id": "rWtVVMq0bx3-",
    "ExecuteTime": {
     "end_time": "2025-03-06T10:22:07.803102Z",
     "start_time": "2025-03-06T10:22:07.767171Z"
    }
   },
   "outputs": [
    {
     "data": {
      "text/plain": [
       "==========================================================================================\n",
       "Layer (type:depth-idx)                   Output Shape              Param #\n",
       "==========================================================================================\n",
       "MLP3                                     [1, 10]                   --\n",
       "├─Linear: 1-1                            [1, 512]                  401,920\n",
       "├─ReLU: 1-2                              [1, 512]                  --\n",
       "├─Linear: 1-3                            [1, 256]                  131,328\n",
       "├─ReLU: 1-4                              [1, 256]                  --\n",
       "├─Linear: 1-5                            [1, 128]                  32,896\n",
       "├─ReLU: 1-6                              [1, 128]                  --\n",
       "├─Linear: 1-7                            [1, 64]                   8,256\n",
       "├─ReLU: 1-8                              [1, 64]                   --\n",
       "├─Linear: 1-9                            [1, 10]                   650\n",
       "==========================================================================================\n",
       "Total params: 575,050\n",
       "Trainable params: 575,050\n",
       "Non-trainable params: 0\n",
       "Total mult-adds (Units.MEGABYTES): 0.58\n",
       "==========================================================================================\n",
       "Input size (MB): 0.00\n",
       "Forward/backward pass size (MB): 0.01\n",
       "Params size (MB): 2.30\n",
       "Estimated Total Size (MB): 2.31\n",
       "=========================================================================================="
      ]
     },
     "execution_count": 20,
     "metadata": {},
     "output_type": "execute_result"
    }
   ],
   "execution_count": 20
  },
  {
   "cell_type": "markdown",
   "source": [
    "## **Question 12 : lancer l'entrainement avec SGD et lr=0.0057**"
   ],
   "metadata": {
    "id": "T5MuQLp4YQdr"
   }
  },
  {
   "cell_type": "code",
   "source": [
    "# Fixer la seed pour la reproductibilité\n",
    "seed_everything(42, workers=True)\n",
    "\n",
    "# Définir les hyperparamètres\n",
    "EPOCHS = 10\n",
    "LR = 0.0057\n",
    "\n",
    "# Définir l'optimiseur SGD\n",
    "optimizer = torch.optim.SGD\n",
    "\n",
    "# Instancier le module Lightning\n",
    "mnist_model = MNISTModel(mlp3_deep_relu, optimizer, lr=LR)\n",
    "\n",
    "# Configurer le trainer avec WandbLogger\n",
    "wandb_logger = WandbLogger(\n",
    "    project=\"TP4 MNIST\",\n",
    "    name=\"mlp3_deep_relu\",\n",
    "    log_model=True,\n",
    ")\n",
    "\n",
    "trainer = pl.Trainer(\n",
    "    max_epochs=EPOCHS,\n",
    "    accelerator=ACCELERATOR,\n",
    "    logger=wandb_logger,\n",
    "    enable_progress_bar=True,\n",
    "    enable_model_summary=True,\n",
    ")\n",
    "\n",
    "# Lancer l'entraînement\n",
    "trainer.fit(mnist_model, train_loader, val_loader)"
   ],
   "metadata": {
    "id": "NHXrR1zzm1BP",
    "ExecuteTime": {
     "end_time": "2025-03-06T10:24:02.971318Z",
     "start_time": "2025-03-06T10:22:13.781971Z"
    }
   },
   "outputs": [
    {
     "name": "stderr",
     "output_type": "stream",
     "text": [
      "Seed set to 42\n",
      "GPU available: True (cuda), used: True\n",
      "TPU available: False, using: 0 TPU cores\n",
      "HPU available: False, using: 0 HPUs\n"
     ]
    },
    {
     "data": {
      "text/plain": [
       "<IPython.core.display.HTML object>"
      ],
      "text/html": [
       "Tracking run with wandb version 0.19.7"
      ]
     },
     "metadata": {},
     "output_type": "display_data"
    },
    {
     "data": {
      "text/plain": [
       "<IPython.core.display.HTML object>"
      ],
      "text/html": [
       "Run data is saved locally in <code>.\\wandb\\run-20250306_112213-t76tgrzy</code>"
      ]
     },
     "metadata": {},
     "output_type": "display_data"
    },
    {
     "data": {
      "text/plain": [
       "<IPython.core.display.HTML object>"
      ],
      "text/html": [
       "Syncing run <strong><a href='https://wandb.ai/maximilien003-universit-de-mons/TP4%20MNIST/runs/t76tgrzy' target=\"_blank\">mlp3_deep_relu</a></strong> to <a href='https://wandb.ai/maximilien003-universit-de-mons/TP4%20MNIST' target=\"_blank\">Weights & Biases</a> (<a href='https://wandb.me/developer-guide' target=\"_blank\">docs</a>)<br>"
      ]
     },
     "metadata": {},
     "output_type": "display_data"
    },
    {
     "data": {
      "text/plain": [
       "<IPython.core.display.HTML object>"
      ],
      "text/html": [
       " View project at <a href='https://wandb.ai/maximilien003-universit-de-mons/TP4%20MNIST' target=\"_blank\">https://wandb.ai/maximilien003-universit-de-mons/TP4%20MNIST</a>"
      ]
     },
     "metadata": {},
     "output_type": "display_data"
    },
    {
     "data": {
      "text/plain": [
       "<IPython.core.display.HTML object>"
      ],
      "text/html": [
       " View run at <a href='https://wandb.ai/maximilien003-universit-de-mons/TP4%20MNIST/runs/t76tgrzy' target=\"_blank\">https://wandb.ai/maximilien003-universit-de-mons/TP4%20MNIST/runs/t76tgrzy</a>"
      ]
     },
     "metadata": {},
     "output_type": "display_data"
    },
    {
     "name": "stderr",
     "output_type": "stream",
     "text": [
      "LOCAL_RANK: 0 - CUDA_VISIBLE_DEVICES: [0]\n",
      "\n",
      "  | Name      | Type               | Params | Mode \n",
      "---------------------------------------------------------\n",
      "0 | model     | MLP3               | 575 K  | train\n",
      "1 | train_acc | MulticlassAccuracy | 0      | train\n",
      "2 | val_acc   | MulticlassAccuracy | 0      | train\n",
      "3 | test_acc  | MulticlassAccuracy | 0      | train\n",
      "---------------------------------------------------------\n",
      "575 K     Trainable params\n",
      "0         Non-trainable params\n",
      "575 K     Total params\n",
      "2.300     Total estimated model params size (MB)\n",
      "10        Modules in train mode\n",
      "0         Modules in eval mode\n"
     ]
    },
    {
     "data": {
      "text/plain": [
       "Sanity Checking: |          | 0/? [00:00<?, ?it/s]"
      ],
      "application/vnd.jupyter.widget-view+json": {
       "version_major": 2,
       "version_minor": 0,
       "model_id": "a74a525ce5aa405990c9193095be68d8"
      }
     },
     "metadata": {},
     "output_type": "display_data"
    },
    {
     "data": {
      "text/plain": [
       "Training: |          | 0/? [00:00<?, ?it/s]"
      ],
      "application/vnd.jupyter.widget-view+json": {
       "version_major": 2,
       "version_minor": 0,
       "model_id": "70c93883d81a477d89cdd57df6cecf36"
      }
     },
     "metadata": {},
     "output_type": "display_data"
    },
    {
     "data": {
      "text/plain": [
       "Validation: |          | 0/? [00:00<?, ?it/s]"
      ],
      "application/vnd.jupyter.widget-view+json": {
       "version_major": 2,
       "version_minor": 0,
       "model_id": "5c49b56bc20e4482aa5cdac08da89f6c"
      }
     },
     "metadata": {},
     "output_type": "display_data"
    },
    {
     "data": {
      "text/plain": [
       "Validation: |          | 0/? [00:00<?, ?it/s]"
      ],
      "application/vnd.jupyter.widget-view+json": {
       "version_major": 2,
       "version_minor": 0,
       "model_id": "c843f12991b34e5fac6fab22cab3905d"
      }
     },
     "metadata": {},
     "output_type": "display_data"
    },
    {
     "data": {
      "text/plain": [
       "Validation: |          | 0/? [00:00<?, ?it/s]"
      ],
      "application/vnd.jupyter.widget-view+json": {
       "version_major": 2,
       "version_minor": 0,
       "model_id": "d1dec554da0144e3b691e384c7eb63ed"
      }
     },
     "metadata": {},
     "output_type": "display_data"
    },
    {
     "data": {
      "text/plain": [
       "Validation: |          | 0/? [00:00<?, ?it/s]"
      ],
      "application/vnd.jupyter.widget-view+json": {
       "version_major": 2,
       "version_minor": 0,
       "model_id": "41eb20f6f6df4a9abae3a830241d8644"
      }
     },
     "metadata": {},
     "output_type": "display_data"
    },
    {
     "data": {
      "text/plain": [
       "Validation: |          | 0/? [00:00<?, ?it/s]"
      ],
      "application/vnd.jupyter.widget-view+json": {
       "version_major": 2,
       "version_minor": 0,
       "model_id": "93e51ef35a334d59b7fb603b52f6f901"
      }
     },
     "metadata": {},
     "output_type": "display_data"
    },
    {
     "data": {
      "text/plain": [
       "Validation: |          | 0/? [00:00<?, ?it/s]"
      ],
      "application/vnd.jupyter.widget-view+json": {
       "version_major": 2,
       "version_minor": 0,
       "model_id": "fd0c7f3409de49b9a1ec6d31975db756"
      }
     },
     "metadata": {},
     "output_type": "display_data"
    },
    {
     "data": {
      "text/plain": [
       "Validation: |          | 0/? [00:00<?, ?it/s]"
      ],
      "application/vnd.jupyter.widget-view+json": {
       "version_major": 2,
       "version_minor": 0,
       "model_id": "a1d4b6ec2edf4c4d9fa0b715db21f0fb"
      }
     },
     "metadata": {},
     "output_type": "display_data"
    },
    {
     "data": {
      "text/plain": [
       "Validation: |          | 0/? [00:00<?, ?it/s]"
      ],
      "application/vnd.jupyter.widget-view+json": {
       "version_major": 2,
       "version_minor": 0,
       "model_id": "80951bf89b95465cb24cfdf897c022ce"
      }
     },
     "metadata": {},
     "output_type": "display_data"
    },
    {
     "data": {
      "text/plain": [
       "Validation: |          | 0/? [00:00<?, ?it/s]"
      ],
      "application/vnd.jupyter.widget-view+json": {
       "version_major": 2,
       "version_minor": 0,
       "model_id": "69e07579d4ba4c1a8b9716d9f6e365fe"
      }
     },
     "metadata": {},
     "output_type": "display_data"
    },
    {
     "data": {
      "text/plain": [
       "Validation: |          | 0/? [00:00<?, ?it/s]"
      ],
      "application/vnd.jupyter.widget-view+json": {
       "version_major": 2,
       "version_minor": 0,
       "model_id": "1d381728a8bc46e39509a948702cccec"
      }
     },
     "metadata": {},
     "output_type": "display_data"
    },
    {
     "name": "stderr",
     "output_type": "stream",
     "text": [
      "`Trainer.fit` stopped: `max_epochs=10` reached.\n"
     ]
    }
   ],
   "execution_count": 21
  },
  {
   "cell_type": "markdown",
   "source": [
    "## **Question 12b: interpréter le résultat d'entraînement de votre 3ème modèle MLP via Wandb**"
   ],
   "metadata": {
    "id": "omXAWtxgm8ee"
   }
  },
  {
   "cell_type": "markdown",
   "source": "https://wandb.ai/maximilien003-universit-de-mons/TP4%20MNIST?nw=nwusermaximilien003",
   "metadata": {
    "id": "OFKF80Ebm8ef"
   }
  },
  {
   "cell_type": "markdown",
   "source": [
    "## **Question 13 : évaluer votre troisième modèle avec les données de test**"
   ],
   "metadata": {
    "id": "86Yl59H9bG9m"
   }
  },
  {
   "cell_type": "code",
   "source": [
    "trainer.test(mnist_model, test_loader)\n",
    "wandb.finish()"
   ],
   "metadata": {
    "id": "Kz0hrijboESR",
    "ExecuteTime": {
     "end_time": "2025-03-06T10:24:07.648939Z",
     "start_time": "2025-03-06T10:24:02.992532Z"
    }
   },
   "outputs": [
    {
     "name": "stderr",
     "output_type": "stream",
     "text": [
      "LOCAL_RANK: 0 - CUDA_VISIBLE_DEVICES: [0]\n"
     ]
    },
    {
     "data": {
      "text/plain": [
       "Testing: |          | 0/? [00:00<?, ?it/s]"
      ],
      "application/vnd.jupyter.widget-view+json": {
       "version_major": 2,
       "version_minor": 0,
       "model_id": "a494958eac814cb2894917af689dfdc7"
      }
     },
     "metadata": {},
     "output_type": "display_data"
    },
    {
     "name": "stdout",
     "output_type": "stream",
     "text": [
      "────────────────────────────────────────────────────────────────────────────────────────────────────────────────────────\r\n",
      "       Test metric             DataLoader 0\r\n",
      "────────────────────────────────────────────────────────────────────────────────────────────────────────────────────────\r\n",
      "        test_acc            0.8871539235115051\r\n",
      "        test_loss           0.36709466576576233\r\n",
      "────────────────────────────────────────────────────────────────────────────────────────────────────────────────────────\n"
     ]
    },
    {
     "data": {
      "text/plain": [
       "<IPython.core.display.HTML object>"
      ],
      "text/html": []
     },
     "metadata": {},
     "output_type": "display_data"
    },
    {
     "data": {
      "text/plain": [
       "<IPython.core.display.HTML object>"
      ],
      "text/html": [
       "<br>    <style><br>        .wandb-row {<br>            display: flex;<br>            flex-direction: row;<br>            flex-wrap: wrap;<br>            justify-content: flex-start;<br>            width: 100%;<br>        }<br>        .wandb-col {<br>            display: flex;<br>            flex-direction: column;<br>            flex-basis: 100%;<br>            flex: 1;<br>            padding: 10px;<br>        }<br>    </style><br><div class=\"wandb-row\"><div class=\"wandb-col\"><h3>Run history:</h3><br/><table class=\"wandb\"><tr><td>epoch</td><td>▁▁▂▂▂▂▃▃▄▄▅▅▅▅▆▆▇▇▇▇█</td></tr><tr><td>test_acc</td><td>▁</td></tr><tr><td>test_loss</td><td>▁</td></tr><tr><td>train_acc</td><td>▁▁▂▃▄▆▇███</td></tr><tr><td>train_loss</td><td>███▇▅▃▂▂▁▁</td></tr><tr><td>trainer/global_step</td><td>▁▁▂▂▃▃▃▃▄▄▅▅▆▆▆▆▇▇███</td></tr><tr><td>val_acc</td><td>▁▁▃▃▅▇▇███</td></tr><tr><td>val_loss</td><td>███▆▄▃▂▁▁▁</td></tr></table><br/></div><div class=\"wandb-col\"><h3>Run summary:</h3><br/><table class=\"wandb\"><tr><td>epoch</td><td>10</td></tr><tr><td>test_acc</td><td>0.88715</td></tr><tr><td>test_loss</td><td>0.36709</td></tr><tr><td>train_acc</td><td>0.88491</td></tr><tr><td>train_loss</td><td>0.38912</td></tr><tr><td>trainer/global_step</td><td>7500</td></tr><tr><td>val_acc</td><td>0.89232</td></tr><tr><td>val_loss</td><td>0.37299</td></tr></table><br/></div></div>"
      ]
     },
     "metadata": {},
     "output_type": "display_data"
    },
    {
     "data": {
      "text/plain": [
       "<IPython.core.display.HTML object>"
      ],
      "text/html": [
       " View run <strong style=\"color:#cdcd00\">mlp3_deep_relu</strong> at: <a href='https://wandb.ai/maximilien003-universit-de-mons/TP4%20MNIST/runs/t76tgrzy' target=\"_blank\">https://wandb.ai/maximilien003-universit-de-mons/TP4%20MNIST/runs/t76tgrzy</a><br> View project at: <a href='https://wandb.ai/maximilien003-universit-de-mons/TP4%20MNIST' target=\"_blank\">https://wandb.ai/maximilien003-universit-de-mons/TP4%20MNIST</a><br>Synced 5 W&B file(s), 0 media file(s), 2 artifact file(s) and 0 other file(s)"
      ]
     },
     "metadata": {},
     "output_type": "display_data"
    },
    {
     "data": {
      "text/plain": [
       "<IPython.core.display.HTML object>"
      ],
      "text/html": [
       "Find logs at: <code>.\\wandb\\run-20250306_112213-t76tgrzy\\logs</code>"
      ]
     },
     "metadata": {},
     "output_type": "display_data"
    }
   ],
   "execution_count": 22
  },
  {
   "cell_type": "markdown",
   "metadata": {
    "id": "NLN0qv06HZ0T"
   },
   "source": [
    "---\n",
    "## **Partie IV : MLP à plusieurs couches + Relu + Dropout**"
   ]
  },
  {
   "cell_type": "markdown",
   "source": [
    "## **Question 14 : définir l'architecture neuronale à 5 couches avec Relu et Dropout (voire l'énonce)**"
   ],
   "metadata": {
    "id": "dFpYFfWcbl14"
   }
  },
  {
   "cell_type": "code",
   "metadata": {
    "id": "bKi-tpvBcvVo",
    "ExecuteTime": {
     "end_time": "2025-03-06T10:28:03.312507Z",
     "start_time": "2025-03-06T10:28:03.306306Z"
    }
   },
   "source": [
    "class MLP4(nn.Module):\n",
    "    def __init__(self):\n",
    "        super(MLP4, self).__init__()\n",
    "\n",
    "        # Définir les couches linéaires\n",
    "        self.layer1 = nn.Linear(784, 200)  # Entrée : 784 -> 200\n",
    "        self.layer2 = nn.Linear(200, 100)  # 200 -> 100\n",
    "        self.layer3 = nn.Linear(100, 60)   # 100 -> 60\n",
    "        self.layer4 = nn.Linear(60, 30)    # 60 -> 30\n",
    "        self.layer5 = nn.Linear(30, 10)    # 30 -> 10 (sortie)\n",
    "\n",
    "        # Fonction d'activation ReLU\n",
    "        self.relu = nn.ReLU()\n",
    "\n",
    "        # Couches de Dropout\n",
    "        self.dropout1 = nn.Dropout(p=0.2)  # 20%\n",
    "        self.dropout2 = nn.Dropout(p=0.15) # 15%\n",
    "        self.dropout3 = nn.Dropout(p=0.1)  # 10%\n",
    "\n",
    "    def forward(self, x):\n",
    "        # Aplatir l'entrée (batch_size, 1, 28, 28) -> (batch_size, 784)\n",
    "        x = x.view(x.size(0), -1)\n",
    "\n",
    "        # Passer à travers les couches\n",
    "        x = self.dropout1(torch.relu(self.layer1(x)))  # Couche 1 + ReLU + Dropout\n",
    "        x = self.dropout2(torch.relu(self.layer2(x)))  # Couche 2 + ReLU + Dropout\n",
    "        x = self.dropout3(torch.relu(self.layer3(x)))  # Couche 3 + ReLU + Dropout\n",
    "        x = torch.relu(self.layer4(x))                 # Couche 4 + ReLU\n",
    "        x = self.layer5(x)                            # Couche 5 (sortie)\n",
    "\n",
    "        return x"
   ],
   "outputs": [],
   "execution_count": 27
  },
  {
   "cell_type": "markdown",
   "source": [
    "## **Question 15 : visualiser l'architecture de votre  quatrième modèle avec la fonction summary()**"
   ],
   "metadata": {
    "id": "0SGaCQrlcfiG"
   }
  },
  {
   "cell_type": "code",
   "metadata": {
    "id": "jplXoI0vc8B1",
    "ExecuteTime": {
     "end_time": "2025-03-06T10:28:04.903908Z",
     "start_time": "2025-03-06T10:28:04.894501Z"
    }
   },
   "source": [
    "mlp4_deep_relu_dropout = MLP4()\n",
    "summary(mlp4_deep_relu_dropout,(1,28,28))"
   ],
   "outputs": [
    {
     "data": {
      "text/plain": [
       "==========================================================================================\n",
       "Layer (type:depth-idx)                   Output Shape              Param #\n",
       "==========================================================================================\n",
       "MLP4                                     [1, 10]                   --\n",
       "├─Linear: 1-1                            [1, 200]                  157,000\n",
       "├─Dropout: 1-2                           [1, 200]                  --\n",
       "├─Linear: 1-3                            [1, 100]                  20,100\n",
       "├─Dropout: 1-4                           [1, 100]                  --\n",
       "├─Linear: 1-5                            [1, 60]                   6,060\n",
       "├─Dropout: 1-6                           [1, 60]                   --\n",
       "├─Linear: 1-7                            [1, 30]                   1,830\n",
       "├─Linear: 1-8                            [1, 10]                   310\n",
       "==========================================================================================\n",
       "Total params: 185,300\n",
       "Trainable params: 185,300\n",
       "Non-trainable params: 0\n",
       "Total mult-adds (Units.MEGABYTES): 0.19\n",
       "==========================================================================================\n",
       "Input size (MB): 0.00\n",
       "Forward/backward pass size (MB): 0.00\n",
       "Params size (MB): 0.74\n",
       "Estimated Total Size (MB): 0.75\n",
       "=========================================================================================="
      ]
     },
     "execution_count": 28,
     "metadata": {},
     "output_type": "execute_result"
    }
   ],
   "execution_count": 28
  },
  {
   "cell_type": "markdown",
   "source": [
    "## **Question 16 : lancer l'entrainement avec SGD et lr=0.01**"
   ],
   "metadata": {
    "id": "favk1dQkcrBM"
   }
  },
  {
   "cell_type": "code",
   "metadata": {
    "id": "jaTnST7wdVwb",
    "ExecuteTime": {
     "end_time": "2025-03-06T10:30:02.401349Z",
     "start_time": "2025-03-06T10:28:08.796985Z"
    }
   },
   "source": [
    "# Fixer la seed pour la reproductibilité\n",
    "seed_everything(42, workers=True)\n",
    "\n",
    "# Définir les hyperparamètres\n",
    "EPOCHS = 10\n",
    "LR = 0.01\n",
    "\n",
    "# Définir l'optimiseur SGD\n",
    "optimizer = torch.optim.SGD\n",
    "\n",
    "# Instancier le module Lightning\n",
    "mnist_model = MNISTModel(mlp4_deep_relu_dropout, optimizer, lr=LR)\n",
    "\n",
    "# Configurer le trainer avec WandbLogger\n",
    "wandb_logger = WandbLogger(\n",
    "    project=\"TP4 MNIST\",\n",
    "    name=\"mlp4_deep_relu_dropout\",\n",
    "    log_model=True,\n",
    ")\n",
    "\n",
    "trainer = pl.Trainer(\n",
    "    max_epochs=EPOCHS,\n",
    "    accelerator=ACCELERATOR,\n",
    "    logger=wandb_logger,\n",
    "    enable_progress_bar=True,\n",
    "    enable_model_summary=True,\n",
    ")\n",
    "\n",
    "# Lancer l'entraînement\n",
    "trainer.fit(mnist_model, train_loader, val_loader)"
   ],
   "outputs": [
    {
     "name": "stderr",
     "output_type": "stream",
     "text": [
      "Seed set to 42\n",
      "GPU available: True (cuda), used: True\n",
      "TPU available: False, using: 0 TPU cores\n",
      "HPU available: False, using: 0 HPUs\n"
     ]
    },
    {
     "data": {
      "text/plain": [
       "<IPython.core.display.HTML object>"
      ],
      "text/html": [
       "Tracking run with wandb version 0.19.7"
      ]
     },
     "metadata": {},
     "output_type": "display_data"
    },
    {
     "data": {
      "text/plain": [
       "<IPython.core.display.HTML object>"
      ],
      "text/html": [
       "Run data is saved locally in <code>.\\wandb\\run-20250306_112808-hkpvau5r</code>"
      ]
     },
     "metadata": {},
     "output_type": "display_data"
    },
    {
     "data": {
      "text/plain": [
       "<IPython.core.display.HTML object>"
      ],
      "text/html": [
       "Syncing run <strong><a href='https://wandb.ai/maximilien003-universit-de-mons/TP4%20MNIST/runs/hkpvau5r' target=\"_blank\">mlp3_deep_relu</a></strong> to <a href='https://wandb.ai/maximilien003-universit-de-mons/TP4%20MNIST' target=\"_blank\">Weights & Biases</a> (<a href='https://wandb.me/developer-guide' target=\"_blank\">docs</a>)<br>"
      ]
     },
     "metadata": {},
     "output_type": "display_data"
    },
    {
     "data": {
      "text/plain": [
       "<IPython.core.display.HTML object>"
      ],
      "text/html": [
       " View project at <a href='https://wandb.ai/maximilien003-universit-de-mons/TP4%20MNIST' target=\"_blank\">https://wandb.ai/maximilien003-universit-de-mons/TP4%20MNIST</a>"
      ]
     },
     "metadata": {},
     "output_type": "display_data"
    },
    {
     "data": {
      "text/plain": [
       "<IPython.core.display.HTML object>"
      ],
      "text/html": [
       " View run at <a href='https://wandb.ai/maximilien003-universit-de-mons/TP4%20MNIST/runs/hkpvau5r' target=\"_blank\">https://wandb.ai/maximilien003-universit-de-mons/TP4%20MNIST/runs/hkpvau5r</a>"
      ]
     },
     "metadata": {},
     "output_type": "display_data"
    },
    {
     "name": "stderr",
     "output_type": "stream",
     "text": [
      "LOCAL_RANK: 0 - CUDA_VISIBLE_DEVICES: [0]\n",
      "\n",
      "  | Name      | Type               | Params | Mode \n",
      "---------------------------------------------------------\n",
      "0 | model     | MLP4               | 185 K  | train\n",
      "1 | train_acc | MulticlassAccuracy | 0      | train\n",
      "2 | val_acc   | MulticlassAccuracy | 0      | train\n",
      "3 | test_acc  | MulticlassAccuracy | 0      | train\n",
      "---------------------------------------------------------\n",
      "185 K     Trainable params\n",
      "0         Non-trainable params\n",
      "185 K     Total params\n",
      "0.741     Total estimated model params size (MB)\n",
      "13        Modules in train mode\n",
      "0         Modules in eval mode\n"
     ]
    },
    {
     "data": {
      "text/plain": [
       "Sanity Checking: |          | 0/? [00:00<?, ?it/s]"
      ],
      "application/vnd.jupyter.widget-view+json": {
       "version_major": 2,
       "version_minor": 0,
       "model_id": "ec14e1bf9e944ca3aed02822b570290a"
      }
     },
     "metadata": {},
     "output_type": "display_data"
    },
    {
     "data": {
      "text/plain": [
       "Training: |          | 0/? [00:00<?, ?it/s]"
      ],
      "application/vnd.jupyter.widget-view+json": {
       "version_major": 2,
       "version_minor": 0,
       "model_id": "a05d706cad20413780f061836b7f5627"
      }
     },
     "metadata": {},
     "output_type": "display_data"
    },
    {
     "data": {
      "text/plain": [
       "Validation: |          | 0/? [00:00<?, ?it/s]"
      ],
      "application/vnd.jupyter.widget-view+json": {
       "version_major": 2,
       "version_minor": 0,
       "model_id": "e3c9aa2a5ced4d6cb21db101887bbfc1"
      }
     },
     "metadata": {},
     "output_type": "display_data"
    },
    {
     "data": {
      "text/plain": [
       "Validation: |          | 0/? [00:00<?, ?it/s]"
      ],
      "application/vnd.jupyter.widget-view+json": {
       "version_major": 2,
       "version_minor": 0,
       "model_id": "95895feaa9fa4775962714613b6813a1"
      }
     },
     "metadata": {},
     "output_type": "display_data"
    },
    {
     "data": {
      "text/plain": [
       "Validation: |          | 0/? [00:00<?, ?it/s]"
      ],
      "application/vnd.jupyter.widget-view+json": {
       "version_major": 2,
       "version_minor": 0,
       "model_id": "3db16908f9804749913f22651c91efa4"
      }
     },
     "metadata": {},
     "output_type": "display_data"
    },
    {
     "data": {
      "text/plain": [
       "Validation: |          | 0/? [00:00<?, ?it/s]"
      ],
      "application/vnd.jupyter.widget-view+json": {
       "version_major": 2,
       "version_minor": 0,
       "model_id": "e04a5da9300e464b89eee56ad1f7d99e"
      }
     },
     "metadata": {},
     "output_type": "display_data"
    },
    {
     "data": {
      "text/plain": [
       "Validation: |          | 0/? [00:00<?, ?it/s]"
      ],
      "application/vnd.jupyter.widget-view+json": {
       "version_major": 2,
       "version_minor": 0,
       "model_id": "a6ed765bb40c473981ade24d292175b5"
      }
     },
     "metadata": {},
     "output_type": "display_data"
    },
    {
     "data": {
      "text/plain": [
       "Validation: |          | 0/? [00:00<?, ?it/s]"
      ],
      "application/vnd.jupyter.widget-view+json": {
       "version_major": 2,
       "version_minor": 0,
       "model_id": "1e619bfaf1944e87b0ec55834bb7fe7f"
      }
     },
     "metadata": {},
     "output_type": "display_data"
    },
    {
     "data": {
      "text/plain": [
       "Validation: |          | 0/? [00:00<?, ?it/s]"
      ],
      "application/vnd.jupyter.widget-view+json": {
       "version_major": 2,
       "version_minor": 0,
       "model_id": "0184d84e39cc4d4b8747d956dfe950bf"
      }
     },
     "metadata": {},
     "output_type": "display_data"
    },
    {
     "data": {
      "text/plain": [
       "Validation: |          | 0/? [00:00<?, ?it/s]"
      ],
      "application/vnd.jupyter.widget-view+json": {
       "version_major": 2,
       "version_minor": 0,
       "model_id": "4da93d71b40f483aa0de48053c0993b7"
      }
     },
     "metadata": {},
     "output_type": "display_data"
    },
    {
     "data": {
      "text/plain": [
       "Validation: |          | 0/? [00:00<?, ?it/s]"
      ],
      "application/vnd.jupyter.widget-view+json": {
       "version_major": 2,
       "version_minor": 0,
       "model_id": "a1f48ed1094b4a3d880fda82500dddf6"
      }
     },
     "metadata": {},
     "output_type": "display_data"
    },
    {
     "data": {
      "text/plain": [
       "Validation: |          | 0/? [00:00<?, ?it/s]"
      ],
      "application/vnd.jupyter.widget-view+json": {
       "version_major": 2,
       "version_minor": 0,
       "model_id": "7a5488d724464b93a4ec229fc0efa7a3"
      }
     },
     "metadata": {},
     "output_type": "display_data"
    },
    {
     "name": "stderr",
     "output_type": "stream",
     "text": [
      "`Trainer.fit` stopped: `max_epochs=10` reached.\n"
     ]
    }
   ],
   "execution_count": 29
  },
  {
   "cell_type": "markdown",
   "source": [
    "## **Question 16b: interpréter le résultat d'entraînement de votre 4ème modèle MLP via Wandb**"
   ],
   "metadata": {
    "id": "O88UpEn-nIln"
   }
  },
  {
   "cell_type": "markdown",
   "source": "https://wandb.ai/maximilien003-universit-de-mons/TP4%20MNIST?nw=nwusermaximilien003",
   "metadata": {
    "id": "Nnl4Sr9knIlo"
   }
  },
  {
   "cell_type": "markdown",
   "source": [
    "## **Question 17 : évaluer votre quatrième modèle MLP avec les données de test**"
   ],
   "metadata": {
    "id": "zOO7d4mDhIqZ"
   }
  },
  {
   "cell_type": "code",
   "metadata": {
    "id": "xE3Yp_Al6I9Y",
    "ExecuteTime": {
     "end_time": "2025-03-06T10:30:06.851237Z",
     "start_time": "2025-03-06T10:30:02.461882Z"
    }
   },
   "source": [
    "trainer.test(mnist_model, test_loader)\n",
    "wandb.finish()"
   ],
   "outputs": [
    {
     "name": "stderr",
     "output_type": "stream",
     "text": [
      "LOCAL_RANK: 0 - CUDA_VISIBLE_DEVICES: [0]\n"
     ]
    },
    {
     "data": {
      "text/plain": [
       "Testing: |          | 0/? [00:00<?, ?it/s]"
      ],
      "application/vnd.jupyter.widget-view+json": {
       "version_major": 2,
       "version_minor": 0,
       "model_id": "119f734c15ea4aa8b897ce7d7a6d0816"
      }
     },
     "metadata": {},
     "output_type": "display_data"
    },
    {
     "name": "stdout",
     "output_type": "stream",
     "text": [
      "────────────────────────────────────────────────────────────────────────────────────────────────────────────────────────\r\n",
      "       Test metric             DataLoader 0\r\n",
      "────────────────────────────────────────────────────────────────────────────────────────────────────────────────────────\r\n",
      "        test_acc            0.9247748255729675\r\n",
      "        test_loss           0.2590165138244629\r\n",
      "────────────────────────────────────────────────────────────────────────────────────────────────────────────────────────\n"
     ]
    },
    {
     "data": {
      "text/plain": [
       "<IPython.core.display.HTML object>"
      ],
      "text/html": []
     },
     "metadata": {},
     "output_type": "display_data"
    },
    {
     "data": {
      "text/plain": [
       "<IPython.core.display.HTML object>"
      ],
      "text/html": [
       "<br>    <style><br>        .wandb-row {<br>            display: flex;<br>            flex-direction: row;<br>            flex-wrap: wrap;<br>            justify-content: flex-start;<br>            width: 100%;<br>        }<br>        .wandb-col {<br>            display: flex;<br>            flex-direction: column;<br>            flex-basis: 100%;<br>            flex: 1;<br>            padding: 10px;<br>        }<br>    </style><br><div class=\"wandb-row\"><div class=\"wandb-col\"><h3>Run history:</h3><br/><table class=\"wandb\"><tr><td>epoch</td><td>▁▁▂▂▂▂▃▃▄▄▅▅▅▅▆▆▇▇▇▇█</td></tr><tr><td>test_acc</td><td>▁</td></tr><tr><td>test_loss</td><td>▁</td></tr><tr><td>train_acc</td><td>▁▁▂▄▆▇▇███</td></tr><tr><td>train_loss</td><td>███▆▄▃▂▁▁▁</td></tr><tr><td>trainer/global_step</td><td>▁▁▂▂▃▃▃▃▄▄▅▅▆▆▆▆▇▇███</td></tr><tr><td>val_acc</td><td>▁▁▂▅▆▇████</td></tr><tr><td>val_loss</td><td>███▄▃▂▂▁▁▁</td></tr></table><br/></div><div class=\"wandb-col\"><h3>Run summary:</h3><br/><table class=\"wandb\"><tr><td>epoch</td><td>10</td></tr><tr><td>test_acc</td><td>0.92477</td></tr><tr><td>test_loss</td><td>0.25902</td></tr><tr><td>train_acc</td><td>0.8973</td></tr><tr><td>train_loss</td><td>0.35331</td></tr><tr><td>trainer/global_step</td><td>7500</td></tr><tr><td>val_acc</td><td>0.92327</td></tr><tr><td>val_loss</td><td>0.2674</td></tr></table><br/></div></div>"
      ]
     },
     "metadata": {},
     "output_type": "display_data"
    },
    {
     "data": {
      "text/plain": [
       "<IPython.core.display.HTML object>"
      ],
      "text/html": [
       " View run <strong style=\"color:#cdcd00\">mlp3_deep_relu</strong> at: <a href='https://wandb.ai/maximilien003-universit-de-mons/TP4%20MNIST/runs/hkpvau5r' target=\"_blank\">https://wandb.ai/maximilien003-universit-de-mons/TP4%20MNIST/runs/hkpvau5r</a><br> View project at: <a href='https://wandb.ai/maximilien003-universit-de-mons/TP4%20MNIST' target=\"_blank\">https://wandb.ai/maximilien003-universit-de-mons/TP4%20MNIST</a><br>Synced 5 W&B file(s), 0 media file(s), 2 artifact file(s) and 0 other file(s)"
      ]
     },
     "metadata": {},
     "output_type": "display_data"
    },
    {
     "data": {
      "text/plain": [
       "<IPython.core.display.HTML object>"
      ],
      "text/html": [
       "Find logs at: <code>.\\wandb\\run-20250306_112808-hkpvau5r\\logs</code>"
      ]
     },
     "metadata": {},
     "output_type": "display_data"
    }
   ],
   "execution_count": 30
  },
  {
   "cell_type": "markdown",
   "source": [
    "---\n",
    "## **Partie V : CNN avec une couche convolutionnelle**"
   ],
   "metadata": {
    "id": "CTEY6gvN-ydu"
   }
  },
  {
   "cell_type": "markdown",
   "source": [
    "## **Question 18 : définir l'architecture CNN à une couches convolutionnelle (voire l'énonce)**"
   ],
   "metadata": {
    "id": "c7vg6e57p4hO"
   }
  },
  {
   "cell_type": "code",
   "source": [
    "nb_filters = 32              # Nombre de filtres convolutionnels : 32\n",
    "pool_size = (2, 2)           # Taille de la zone de pooling : (2,2)\n",
    "kernel_size = (3, 3)         # Taille du noyau de convolution : (3,3)\n",
    "NUM_CLASSES = 10             # Nombre de classes de sortie (par exemple, MNIST)\n",
    "\n",
    "class CNNModel(nn.Module):\n",
    "    def __init__(self):\n",
    "        super(CNNModel, self).__init__()\n",
    "        self.conv1 = nn.Conv2d(in_channels=1, out_channels=nb_filters, kernel_size=kernel_size, padding='valid')\n",
    "        self.pool = nn.MaxPool2d(kernel_size=pool_size)\n",
    "        self.fc1 = nn.LazyLinear(128)\n",
    "        self.fc2 = nn.LazyLinear(NUM_CLASSES)\n",
    "\n",
    "    def forward(self, x):\n",
    "        x = F.relu(self.conv1(x))\n",
    "        x = self.pool(x)\n",
    "        x = torch.flatten(x, 1)  # Flatten the input to feed it to the linear layers\n",
    "        x = F.relu(self.fc1(x))\n",
    "        x = self.fc2(x)\n",
    "        return x"
   ],
   "metadata": {
    "id": "G1pmrE3dp1hw",
    "ExecuteTime": {
     "end_time": "2025-03-06T10:32:04.877627Z",
     "start_time": "2025-03-06T10:32:04.871657Z"
    }
   },
   "outputs": [],
   "execution_count": 31
  },
  {
   "cell_type": "markdown",
   "source": [
    "## **Question 19 : visualiser l'architecture de votre  1er modèle CNN avec la fonction summary()**"
   ],
   "metadata": {
    "id": "ky_45H6EiYEw"
   }
  },
  {
   "cell_type": "code",
   "source": [
    "cnn_one_conv = CNNModel()\n",
    "summary(cnn_one_conv,(1,28,28))"
   ],
   "metadata": {
    "id": "dwjvFeGyiiFE",
    "ExecuteTime": {
     "end_time": "2025-03-06T10:32:06.647850Z",
     "start_time": "2025-03-06T10:32:06.467364Z"
    }
   },
   "outputs": [
    {
     "data": {
      "text/plain": [
       "==========================================================================================\n",
       "Layer (type:depth-idx)                   Output Shape              Param #\n",
       "==========================================================================================\n",
       "CNNModel                                 [32, 10]                  --\n",
       "├─Conv2d: 1-1                            [32, 26, 26]              320\n",
       "├─MaxPool2d: 1-2                         [32, 13, 13]              --\n",
       "├─Linear: 1-3                            [32, 128]                 21,760\n",
       "├─Linear: 1-4                            [32, 10]                  1,290\n",
       "==========================================================================================\n",
       "Total params: 23,370\n",
       "Trainable params: 23,370\n",
       "Non-trainable params: 0\n",
       "Total mult-adds (Units.MEGABYTES): 1.00\n",
       "==========================================================================================\n",
       "Input size (MB): 0.00\n",
       "Forward/backward pass size (MB): 0.21\n",
       "Params size (MB): 0.09\n",
       "Estimated Total Size (MB): 0.31\n",
       "=========================================================================================="
      ]
     },
     "execution_count": 32,
     "metadata": {},
     "output_type": "execute_result"
    }
   ],
   "execution_count": 32
  },
  {
   "cell_type": "markdown",
   "source": [
    "## **Question 20 : lancer l'entrainement avec Adam et lr=xxx**"
   ],
   "metadata": {
    "id": "x1CiOApihkt1"
   }
  },
  {
   "cell_type": "code",
   "source": [
    "# Fixer la seed pour la reproductibilité\n",
    "seed_everything(42, workers=True)\n",
    "\n",
    "# Définir les hyperparamètres\n",
    "EPOCHS = 20  # Modifier pour 20 époques\n",
    "LR = None    # Utiliser le taux d'apprentissage par défaut d'Adam\n",
    "\n",
    "# Définir l'optimiseur Adam avec taux d'apprentissage par défaut\n",
    "optimizer = torch.optim.Adam\n",
    "\n",
    "# Instancier le module Lightning avec le modèle CNN\n",
    "cnn_one_conv = CNNModel()\n",
    "mnist_model = MNISTModel(cnn_one_conv, optimizer)  # Passer CNNModel au lieu de mlp4_deep_relu_dropout\n",
    "\n",
    "# Configurer le trainer avec WandbLogger\n",
    "wandb_logger = WandbLogger(\n",
    "    project=\"TP4 MNIST\",\n",
    "    name=\"cnn_one_conv\",\n",
    "    log_model=True,\n",
    ")\n",
    "\n",
    "trainer = pl.Trainer(\n",
    "    max_epochs=EPOCHS,\n",
    "    accelerator=ACCELERATOR,\n",
    "    logger=wandb_logger,\n",
    "    enable_progress_bar=True,\n",
    "    enable_model_summary=True,\n",
    ")\n",
    "\n",
    "# Lancer l'entraînement\n",
    "trainer.fit(mnist_model, train_loader, val_loader)"
   ],
   "metadata": {
    "id": "W8ax-tmmp8pL",
    "ExecuteTime": {
     "end_time": "2025-03-06T10:40:31.959698Z",
     "start_time": "2025-03-06T10:36:52.493578Z"
    }
   },
   "outputs": [
    {
     "name": "stderr",
     "output_type": "stream",
     "text": [
      "Seed set to 42\n",
      "GPU available: True (cuda), used: True\n",
      "TPU available: False, using: 0 TPU cores\n",
      "HPU available: False, using: 0 HPUs\n",
      "C:\\Users\\maxim\\OneDrive\\Documents\\UMONS\\BAB3\\Q2 - Intelligence Artificielle\\.venv\\Lib\\site-packages\\pytorch_lightning\\loggers\\wandb.py:397: There is a wandb run already in progress and newly created instances of `WandbLogger` will reuse this run. If this is not desired, call `wandb.finish()` before instantiating `WandbLogger`.\n",
      "LOCAL_RANK: 0 - CUDA_VISIBLE_DEVICES: [0]\n",
      "C:\\Users\\maxim\\OneDrive\\Documents\\UMONS\\BAB3\\Q2 - Intelligence Artificielle\\.venv\\Lib\\site-packages\\pytorch_lightning\\utilities\\model_summary\\model_summary.py:477: The total number of parameters detected may be inaccurate because the model contains an instance of `UninitializedParameter`. To get an accurate number, set `self.example_input_array` in your LightningModule.\n",
      "\n",
      "  | Name      | Type               | Params | Mode \n",
      "---------------------------------------------------------\n",
      "0 | model     | CNNModel           | 320    | train\n",
      "1 | train_acc | MulticlassAccuracy | 0      | train\n",
      "2 | val_acc   | MulticlassAccuracy | 0      | train\n",
      "3 | test_acc  | MulticlassAccuracy | 0      | train\n",
      "---------------------------------------------------------\n",
      "320       Trainable params\n",
      "0         Non-trainable params\n",
      "320       Total params\n",
      "0.001     Total estimated model params size (MB)\n",
      "8         Modules in train mode\n",
      "0         Modules in eval mode\n"
     ]
    },
    {
     "data": {
      "text/plain": [
       "Sanity Checking: |          | 0/? [00:00<?, ?it/s]"
      ],
      "application/vnd.jupyter.widget-view+json": {
       "version_major": 2,
       "version_minor": 0,
       "model_id": "9e500bda75ee41bc9cf1ddd3a756915e"
      }
     },
     "metadata": {},
     "output_type": "display_data"
    },
    {
     "data": {
      "text/plain": [
       "Training: |          | 0/? [00:00<?, ?it/s]"
      ],
      "application/vnd.jupyter.widget-view+json": {
       "version_major": 2,
       "version_minor": 0,
       "model_id": "c9abb10a48f14289942473b0616b14fb"
      }
     },
     "metadata": {},
     "output_type": "display_data"
    },
    {
     "data": {
      "text/plain": [
       "Validation: |          | 0/? [00:00<?, ?it/s]"
      ],
      "application/vnd.jupyter.widget-view+json": {
       "version_major": 2,
       "version_minor": 0,
       "model_id": "a641da71292f478097836e93c2ccd8eb"
      }
     },
     "metadata": {},
     "output_type": "display_data"
    },
    {
     "data": {
      "text/plain": [
       "Validation: |          | 0/? [00:00<?, ?it/s]"
      ],
      "application/vnd.jupyter.widget-view+json": {
       "version_major": 2,
       "version_minor": 0,
       "model_id": "0ac9292aa8394744a6c42a4c315b9fdd"
      }
     },
     "metadata": {},
     "output_type": "display_data"
    },
    {
     "data": {
      "text/plain": [
       "Validation: |          | 0/? [00:00<?, ?it/s]"
      ],
      "application/vnd.jupyter.widget-view+json": {
       "version_major": 2,
       "version_minor": 0,
       "model_id": "df98c0d0c08443ab9ea3831bdbcb6583"
      }
     },
     "metadata": {},
     "output_type": "display_data"
    },
    {
     "data": {
      "text/plain": [
       "Validation: |          | 0/? [00:00<?, ?it/s]"
      ],
      "application/vnd.jupyter.widget-view+json": {
       "version_major": 2,
       "version_minor": 0,
       "model_id": "ea3b1254ba23488d936cdeb2da48f069"
      }
     },
     "metadata": {},
     "output_type": "display_data"
    },
    {
     "data": {
      "text/plain": [
       "Validation: |          | 0/? [00:00<?, ?it/s]"
      ],
      "application/vnd.jupyter.widget-view+json": {
       "version_major": 2,
       "version_minor": 0,
       "model_id": "780442152d47462ebe9bea582374f774"
      }
     },
     "metadata": {},
     "output_type": "display_data"
    },
    {
     "data": {
      "text/plain": [
       "Validation: |          | 0/? [00:00<?, ?it/s]"
      ],
      "application/vnd.jupyter.widget-view+json": {
       "version_major": 2,
       "version_minor": 0,
       "model_id": "c6cd0a8f5c394d4294b81ff367bfd80d"
      }
     },
     "metadata": {},
     "output_type": "display_data"
    },
    {
     "data": {
      "text/plain": [
       "Validation: |          | 0/? [00:00<?, ?it/s]"
      ],
      "application/vnd.jupyter.widget-view+json": {
       "version_major": 2,
       "version_minor": 0,
       "model_id": "f19127a8940941a2afb54062d79dc5f4"
      }
     },
     "metadata": {},
     "output_type": "display_data"
    },
    {
     "data": {
      "text/plain": [
       "Validation: |          | 0/? [00:00<?, ?it/s]"
      ],
      "application/vnd.jupyter.widget-view+json": {
       "version_major": 2,
       "version_minor": 0,
       "model_id": "4d2b28605cc64706a6825a3a216cdae4"
      }
     },
     "metadata": {},
     "output_type": "display_data"
    },
    {
     "data": {
      "text/plain": [
       "Validation: |          | 0/? [00:00<?, ?it/s]"
      ],
      "application/vnd.jupyter.widget-view+json": {
       "version_major": 2,
       "version_minor": 0,
       "model_id": "ae735f7b82134d7c9a7ad696daa15de5"
      }
     },
     "metadata": {},
     "output_type": "display_data"
    },
    {
     "data": {
      "text/plain": [
       "Validation: |          | 0/? [00:00<?, ?it/s]"
      ],
      "application/vnd.jupyter.widget-view+json": {
       "version_major": 2,
       "version_minor": 0,
       "model_id": "9de0328e034143ec9ebf88f2adf287f6"
      }
     },
     "metadata": {},
     "output_type": "display_data"
    },
    {
     "data": {
      "text/plain": [
       "Validation: |          | 0/? [00:00<?, ?it/s]"
      ],
      "application/vnd.jupyter.widget-view+json": {
       "version_major": 2,
       "version_minor": 0,
       "model_id": "ccca6aa22a374927b7f38a2e6c562285"
      }
     },
     "metadata": {},
     "output_type": "display_data"
    },
    {
     "data": {
      "text/plain": [
       "Validation: |          | 0/? [00:00<?, ?it/s]"
      ],
      "application/vnd.jupyter.widget-view+json": {
       "version_major": 2,
       "version_minor": 0,
       "model_id": "e9e769d80f50499ca0a10041ff5b9ace"
      }
     },
     "metadata": {},
     "output_type": "display_data"
    },
    {
     "data": {
      "text/plain": [
       "Validation: |          | 0/? [00:00<?, ?it/s]"
      ],
      "application/vnd.jupyter.widget-view+json": {
       "version_major": 2,
       "version_minor": 0,
       "model_id": "03505fe2f8f3435687d2d5e3fd6687ba"
      }
     },
     "metadata": {},
     "output_type": "display_data"
    },
    {
     "data": {
      "text/plain": [
       "Validation: |          | 0/? [00:00<?, ?it/s]"
      ],
      "application/vnd.jupyter.widget-view+json": {
       "version_major": 2,
       "version_minor": 0,
       "model_id": "a247999cb5ea4d0f825234a4f9fddda9"
      }
     },
     "metadata": {},
     "output_type": "display_data"
    },
    {
     "data": {
      "text/plain": [
       "Validation: |          | 0/? [00:00<?, ?it/s]"
      ],
      "application/vnd.jupyter.widget-view+json": {
       "version_major": 2,
       "version_minor": 0,
       "model_id": "d21e33287985459a826719a398fec09a"
      }
     },
     "metadata": {},
     "output_type": "display_data"
    },
    {
     "data": {
      "text/plain": [
       "Validation: |          | 0/? [00:00<?, ?it/s]"
      ],
      "application/vnd.jupyter.widget-view+json": {
       "version_major": 2,
       "version_minor": 0,
       "model_id": "683241627f854187b8ebfe069009ecce"
      }
     },
     "metadata": {},
     "output_type": "display_data"
    },
    {
     "data": {
      "text/plain": [
       "Validation: |          | 0/? [00:00<?, ?it/s]"
      ],
      "application/vnd.jupyter.widget-view+json": {
       "version_major": 2,
       "version_minor": 0,
       "model_id": "5d373c99245b49bda918f378f9f622ce"
      }
     },
     "metadata": {},
     "output_type": "display_data"
    },
    {
     "data": {
      "text/plain": [
       "Validation: |          | 0/? [00:00<?, ?it/s]"
      ],
      "application/vnd.jupyter.widget-view+json": {
       "version_major": 2,
       "version_minor": 0,
       "model_id": "0d886b67ba6e45e6a4d819ff5021b8db"
      }
     },
     "metadata": {},
     "output_type": "display_data"
    },
    {
     "data": {
      "text/plain": [
       "Validation: |          | 0/? [00:00<?, ?it/s]"
      ],
      "application/vnd.jupyter.widget-view+json": {
       "version_major": 2,
       "version_minor": 0,
       "model_id": "ab5c3d3e911542a39c4f8f0f54fb830c"
      }
     },
     "metadata": {},
     "output_type": "display_data"
    },
    {
     "data": {
      "text/plain": [
       "Validation: |          | 0/? [00:00<?, ?it/s]"
      ],
      "application/vnd.jupyter.widget-view+json": {
       "version_major": 2,
       "version_minor": 0,
       "model_id": "21ada201eab74bd3b6e50c04a68d5b33"
      }
     },
     "metadata": {},
     "output_type": "display_data"
    },
    {
     "name": "stderr",
     "output_type": "stream",
     "text": [
      "`Trainer.fit` stopped: `max_epochs=20` reached.\n"
     ]
    }
   ],
   "execution_count": 34
  },
  {
   "cell_type": "markdown",
   "source": [
    "## **Question 20b: interpréter le résultat d'entraînement de votre 1er modèle CNN via Wandb**"
   ],
   "metadata": {
    "id": "NK-a9e06nP18"
   }
  },
  {
   "cell_type": "markdown",
   "source": "https://wandb.ai/maximilien003-universit-de-mons/TP4%20MNIST?nw=nwusermaximilien003",
   "metadata": {
    "id": "x8H5gcxOnP19"
   }
  },
  {
   "cell_type": "markdown",
   "source": [
    "## **Question 21 : évaluer votre premier modèle CNN avec les données de test**"
   ],
   "metadata": {
    "id": "zXHl7IvXjzoF"
   }
  },
  {
   "cell_type": "code",
   "source": [
    "trainer.test(mnist_model, test_loader)\n",
    "wandb.finish()"
   ],
   "metadata": {
    "id": "UeSatsrrqFeH",
    "ExecuteTime": {
     "end_time": "2025-03-06T10:40:38.977795Z",
     "start_time": "2025-03-06T10:40:31.980753Z"
    }
   },
   "outputs": [
    {
     "name": "stderr",
     "output_type": "stream",
     "text": [
      "LOCAL_RANK: 0 - CUDA_VISIBLE_DEVICES: [0]\n"
     ]
    },
    {
     "data": {
      "text/plain": [
       "Testing: |          | 0/? [00:00<?, ?it/s]"
      ],
      "application/vnd.jupyter.widget-view+json": {
       "version_major": 2,
       "version_minor": 0,
       "model_id": "69425625104c48f0b25afb1a04978bbb"
      }
     },
     "metadata": {},
     "output_type": "display_data"
    },
    {
     "name": "stdout",
     "output_type": "stream",
     "text": [
      "────────────────────────────────────────────────────────────────────────────────────────────────────────────────────────\r\n",
      "       Test metric             DataLoader 0\r\n",
      "────────────────────────────────────────────────────────────────────────────────────────────────────────────────────────\r\n",
      "        test_acc             0.982903242111206\r\n",
      "        test_loss          0.053389325737953186\r\n",
      "────────────────────────────────────────────────────────────────────────────────────────────────────────────────────────\n"
     ]
    },
    {
     "data": {
      "text/plain": [
       "<IPython.core.display.HTML object>"
      ],
      "text/html": []
     },
     "metadata": {},
     "output_type": "display_data"
    },
    {
     "data": {
      "text/plain": [
       "<IPython.core.display.HTML object>"
      ],
      "text/html": [
       "<br>    <style><br>        .wandb-row {<br>            display: flex;<br>            flex-direction: row;<br>            flex-wrap: wrap;<br>            justify-content: flex-start;<br>            width: 100%;<br>        }<br>        .wandb-col {<br>            display: flex;<br>            flex-direction: column;<br>            flex-basis: 100%;<br>            flex: 1;<br>            padding: 10px;<br>        }<br>    </style><br><div class=\"wandb-row\"><div class=\"wandb-col\"><h3>Run history:</h3><br/><table class=\"wandb\"><tr><td>epoch</td><td>▁▁▁▁▂▂▂▂▂▂▃▃▃▃▃▃▄▄▄▄▅▅▅▅▅▅▆▆▆▆▆▆▇▇▇▇▇▇██</td></tr><tr><td>test_acc</td><td>▁</td></tr><tr><td>test_loss</td><td>▁</td></tr><tr><td>train_acc</td><td>▁▅▆▆▇▇▇▇▇███████████</td></tr><tr><td>train_loss</td><td>█▃▃▂▂▂▂▂▁▁▁▁▁▁▁▁▁▁▁▁</td></tr><tr><td>trainer/global_step</td><td>▁▁▁▁▂▂▂▂▂▂▃▃▃▃▄▄▄▄▄▄▅▅▅▅▅▅▆▆▆▆▇▇▇▇▇▇████</td></tr><tr><td>val_acc</td><td>▁▃▅▆▆▇▇▇▇▇██████████</td></tr><tr><td>val_loss</td><td>█▅▄▃▃▂▂▂▂▂▁▁▁▁▁▁▁▁▁▁</td></tr></table><br/></div><div class=\"wandb-col\"><h3>Run summary:</h3><br/><table class=\"wandb\"><tr><td>epoch</td><td>20</td></tr><tr><td>test_acc</td><td>0.9829</td></tr><tr><td>test_loss</td><td>0.05339</td></tr><tr><td>train_acc</td><td>0.99184</td></tr><tr><td>train_loss</td><td>0.03307</td></tr><tr><td>trainer/global_step</td><td>15000</td></tr><tr><td>val_acc</td><td>0.9824</td></tr><tr><td>val_loss</td><td>0.06122</td></tr></table><br/></div></div>"
      ]
     },
     "metadata": {},
     "output_type": "display_data"
    },
    {
     "data": {
      "text/plain": [
       "<IPython.core.display.HTML object>"
      ],
      "text/html": [
       " View run <strong style=\"color:#cdcd00\">cnn_one_conv</strong> at: <a href='https://wandb.ai/maximilien003-universit-de-mons/TP4%20MNIST/runs/c2kkpf7d' target=\"_blank\">https://wandb.ai/maximilien003-universit-de-mons/TP4%20MNIST/runs/c2kkpf7d</a><br> View project at: <a href='https://wandb.ai/maximilien003-universit-de-mons/TP4%20MNIST' target=\"_blank\">https://wandb.ai/maximilien003-universit-de-mons/TP4%20MNIST</a><br>Synced 5 W&B file(s), 0 media file(s), 2 artifact file(s) and 0 other file(s)"
      ]
     },
     "metadata": {},
     "output_type": "display_data"
    },
    {
     "data": {
      "text/plain": [
       "<IPython.core.display.HTML object>"
      ],
      "text/html": [
       "Find logs at: <code>.\\wandb\\run-20250306_113431-c2kkpf7d\\logs</code>"
      ]
     },
     "metadata": {},
     "output_type": "display_data"
    }
   ],
   "execution_count": 35
  },
  {
   "cell_type": "markdown",
   "metadata": {
    "id": "PW9G9UKEJdt1"
   },
   "source": [
    "---\n",
    "## **Partie VI : CNN avec 2 couches convolutionnelles et Dropout**"
   ]
  },
  {
   "cell_type": "markdown",
   "source": [
    "## **Question 22 : définir l'architecture à 2 couches convolutionnelles + Dropout (voire l'énonce)**"
   ],
   "metadata": {
    "id": "Hx5Wtm7UkM5m"
   }
  },
  {
   "cell_type": "code",
   "metadata": {
    "id": "jqGI49G-Jfxe",
    "ExecuteTime": {
     "end_time": "2025-03-06T10:44:28.380924Z",
     "start_time": "2025-03-06T10:44:28.375541Z"
    }
   },
   "source": [
    "class CNNModelTwoConv(nn.Module):\n",
    "    def __init__(self):\n",
    "        super(CNNModelTwoConv, self).__init__()\n",
    "\n",
    "        # Première couche convolutionnelle : 32 filtres (3,3)\n",
    "        self.conv1 = nn.Conv2d(in_channels=1, out_channels=32, kernel_size=(3, 3), padding='valid')\n",
    "        self.dropout1 = nn.Dropout(p=0.2)  # Dropout 20%\n",
    "\n",
    "        # Deuxième couche convolutionnelle : 32 filtres (3,3)\n",
    "        self.conv2 = nn.Conv2d(in_channels=32, out_channels=32, kernel_size=(3, 3), padding='valid')\n",
    "        self.dropout2 = nn.Dropout(p=0.2)  # Dropout 20%\n",
    "\n",
    "        # MaxPooling : (2,2)\n",
    "        self.pool = nn.MaxPool2d(kernel_size=(2, 2))\n",
    "\n",
    "        # Calcul de la taille après conv et pooling\n",
    "        # Entrée : 28x28 -> Conv1 : 26x26 -> Conv2 : 24x24 -> Pool : 12x12\n",
    "        # Taille aplatie : 32 * 12 * 12 = 4608\n",
    "\n",
    "        # Couche entièrement connectée 1 : 128 neurones\n",
    "        self.fc1 = nn.Linear(32 * 12 * 12, 128)  # Ajuster selon la taille après pooling\n",
    "        self.dropout3 = nn.Dropout(p=0.2)  # Dropout 20%\n",
    "\n",
    "        # Couche entièrement connectée 2 : 10 neurones (sortie)\n",
    "        self.fc2 = nn.Linear(128, 10)\n",
    "\n",
    "    def forward(self, x):\n",
    "        # Première couche convolutionnelle + ReLU + Dropout\n",
    "        x = F.relu(self.conv1(x))\n",
    "        x = self.dropout1(x)\n",
    "\n",
    "        # Deuxième couche convolutionnelle + ReLU + Dropout\n",
    "        x = F.relu(self.conv2(x))\n",
    "        x = self.dropout2(x)\n",
    "\n",
    "        # MaxPooling\n",
    "        x = self.pool(x)\n",
    "\n",
    "        # Aplatir pour les couches entièrement connectées\n",
    "        x = torch.flatten(x, 1)  # (batch_size, 32 * 12 * 12)\n",
    "\n",
    "        # Couche entièrement connectée 1 + ReLU + Dropout\n",
    "        x = F.relu(self.fc1(x))\n",
    "        x = self.dropout3(x)\n",
    "\n",
    "        # Couche entièrement connectée 2 (sortie)\n",
    "        x = self.fc2(x)\n",
    "\n",
    "        return x"
   ],
   "outputs": [],
   "execution_count": 36
  },
  {
   "cell_type": "markdown",
   "source": [
    "## **Question 23 : visualiser l'architecture de votre  2ème modèle CNN avec la fonction summary()**"
   ],
   "metadata": {
    "id": "PwuMJzGKkloz"
   }
  },
  {
   "cell_type": "code",
   "metadata": {
    "id": "OyY_7r22KFW4",
    "ExecuteTime": {
     "end_time": "2025-03-06T10:44:30.664825Z",
     "start_time": "2025-03-06T10:44:30.651741Z"
    }
   },
   "source": [
    "cnn_two_conv = CNNModel()\n",
    "summary(cnn_two_conv,(1,28,28))"
   ],
   "outputs": [
    {
     "data": {
      "text/plain": [
       "==========================================================================================\n",
       "Layer (type:depth-idx)                   Output Shape              Param #\n",
       "==========================================================================================\n",
       "CNNModel                                 [32, 10]                  --\n",
       "├─Conv2d: 1-1                            [32, 26, 26]              320\n",
       "├─MaxPool2d: 1-2                         [32, 13, 13]              --\n",
       "├─Linear: 1-3                            [32, 128]                 21,760\n",
       "├─Linear: 1-4                            [32, 10]                  1,290\n",
       "==========================================================================================\n",
       "Total params: 23,370\n",
       "Trainable params: 23,370\n",
       "Non-trainable params: 0\n",
       "Total mult-adds (Units.MEGABYTES): 1.00\n",
       "==========================================================================================\n",
       "Input size (MB): 0.00\n",
       "Forward/backward pass size (MB): 0.21\n",
       "Params size (MB): 0.09\n",
       "Estimated Total Size (MB): 0.31\n",
       "=========================================================================================="
      ]
     },
     "execution_count": 37,
     "metadata": {},
     "output_type": "execute_result"
    }
   ],
   "execution_count": 37
  },
  {
   "cell_type": "markdown",
   "source": [
    "## **Question 24 : lancer l'entrainement avec Adam et lr=xxx**"
   ],
   "metadata": {
    "id": "XIRCi4qukbMi"
   }
  },
  {
   "cell_type": "code",
   "metadata": {
    "id": "j5ZC2o4TKSsV",
    "ExecuteTime": {
     "end_time": "2025-03-06T10:49:05.753359Z",
     "start_time": "2025-03-06T10:44:49.720501Z"
    }
   },
   "source": [
    "# Fixer la seed pour la reproductibilité\n",
    "seed_everything(42, workers=True)\n",
    "\n",
    "# Définir les hyperparamètres\n",
    "EPOCHS = 20  # Modifier pour 20 époques\n",
    "LR = None    # Utiliser le taux d'apprentissage par défaut d'Adam\n",
    "\n",
    "# Définir l'optimiseur Adam avec taux d'apprentissage par défaut\n",
    "optimizer = torch.optim.Adam\n",
    "\n",
    "# Instancier le module Lightning avec le modèle CNN\n",
    "cnn_two_conv = CNNModel()\n",
    "mnist_model = MNISTModel(cnn_one_conv, optimizer)  # Passer CNNModel au lieu de mlp4_deep_relu_dropout\n",
    "\n",
    "# Configurer le trainer avec WandbLogger\n",
    "wandb_logger = WandbLogger(\n",
    "    project=\"TP4 MNIST\",\n",
    "    name=\"cnn_two_conv\",\n",
    "    log_model=True,\n",
    ")\n",
    "\n",
    "trainer = pl.Trainer(\n",
    "    max_epochs=EPOCHS,\n",
    "    accelerator=ACCELERATOR,\n",
    "    logger=wandb_logger,\n",
    "    enable_progress_bar=True,\n",
    "    enable_model_summary=True,\n",
    ")\n",
    "\n",
    "# Lancer l'entraînement\n",
    "trainer.fit(mnist_model, train_loader, val_loader)"
   ],
   "outputs": [
    {
     "name": "stderr",
     "output_type": "stream",
     "text": [
      "Seed set to 42\n",
      "GPU available: True (cuda), used: True\n",
      "TPU available: False, using: 0 TPU cores\n",
      "HPU available: False, using: 0 HPUs\n"
     ]
    },
    {
     "data": {
      "text/plain": [
       "<IPython.core.display.HTML object>"
      ],
      "text/html": [
       "Tracking run with wandb version 0.19.7"
      ]
     },
     "metadata": {},
     "output_type": "display_data"
    },
    {
     "data": {
      "text/plain": [
       "<IPython.core.display.HTML object>"
      ],
      "text/html": [
       "Run data is saved locally in <code>.\\wandb\\run-20250306_114449-43g1d6n0</code>"
      ]
     },
     "metadata": {},
     "output_type": "display_data"
    },
    {
     "data": {
      "text/plain": [
       "<IPython.core.display.HTML object>"
      ],
      "text/html": [
       "Syncing run <strong><a href='https://wandb.ai/maximilien003-universit-de-mons/TP4%20MNIST/runs/43g1d6n0' target=\"_blank\">cnn_two_conv</a></strong> to <a href='https://wandb.ai/maximilien003-universit-de-mons/TP4%20MNIST' target=\"_blank\">Weights & Biases</a> (<a href='https://wandb.me/developer-guide' target=\"_blank\">docs</a>)<br>"
      ]
     },
     "metadata": {},
     "output_type": "display_data"
    },
    {
     "data": {
      "text/plain": [
       "<IPython.core.display.HTML object>"
      ],
      "text/html": [
       " View project at <a href='https://wandb.ai/maximilien003-universit-de-mons/TP4%20MNIST' target=\"_blank\">https://wandb.ai/maximilien003-universit-de-mons/TP4%20MNIST</a>"
      ]
     },
     "metadata": {},
     "output_type": "display_data"
    },
    {
     "data": {
      "text/plain": [
       "<IPython.core.display.HTML object>"
      ],
      "text/html": [
       " View run at <a href='https://wandb.ai/maximilien003-universit-de-mons/TP4%20MNIST/runs/43g1d6n0' target=\"_blank\">https://wandb.ai/maximilien003-universit-de-mons/TP4%20MNIST/runs/43g1d6n0</a>"
      ]
     },
     "metadata": {},
     "output_type": "display_data"
    },
    {
     "name": "stderr",
     "output_type": "stream",
     "text": [
      "LOCAL_RANK: 0 - CUDA_VISIBLE_DEVICES: [0]\n",
      "\n",
      "  | Name      | Type               | Params | Mode \n",
      "---------------------------------------------------------\n",
      "0 | model     | CNNModel           | 693 K  | train\n",
      "1 | train_acc | MulticlassAccuracy | 0      | train\n",
      "2 | val_acc   | MulticlassAccuracy | 0      | train\n",
      "3 | test_acc  | MulticlassAccuracy | 0      | train\n",
      "---------------------------------------------------------\n",
      "693 K     Trainable params\n",
      "0         Non-trainable params\n",
      "693 K     Total params\n",
      "2.776     Total estimated model params size (MB)\n",
      "8         Modules in train mode\n",
      "0         Modules in eval mode\n"
     ]
    },
    {
     "data": {
      "text/plain": [
       "Sanity Checking: |          | 0/? [00:00<?, ?it/s]"
      ],
      "application/vnd.jupyter.widget-view+json": {
       "version_major": 2,
       "version_minor": 0,
       "model_id": "404c5dafdc0d46b3a0815dc3d0a60a21"
      }
     },
     "metadata": {},
     "output_type": "display_data"
    },
    {
     "data": {
      "text/plain": [
       "Training: |          | 0/? [00:00<?, ?it/s]"
      ],
      "application/vnd.jupyter.widget-view+json": {
       "version_major": 2,
       "version_minor": 0,
       "model_id": "3d334dc86c77413fad54a65f4cf73370"
      }
     },
     "metadata": {},
     "output_type": "display_data"
    },
    {
     "data": {
      "text/plain": [
       "Validation: |          | 0/? [00:00<?, ?it/s]"
      ],
      "application/vnd.jupyter.widget-view+json": {
       "version_major": 2,
       "version_minor": 0,
       "model_id": "b1dbd157177a4832a077e4e7135f193e"
      }
     },
     "metadata": {},
     "output_type": "display_data"
    },
    {
     "data": {
      "text/plain": [
       "Validation: |          | 0/? [00:00<?, ?it/s]"
      ],
      "application/vnd.jupyter.widget-view+json": {
       "version_major": 2,
       "version_minor": 0,
       "model_id": "ac9fbf0d25da42bfbd9b5fbc01117450"
      }
     },
     "metadata": {},
     "output_type": "display_data"
    },
    {
     "data": {
      "text/plain": [
       "Validation: |          | 0/? [00:00<?, ?it/s]"
      ],
      "application/vnd.jupyter.widget-view+json": {
       "version_major": 2,
       "version_minor": 0,
       "model_id": "e79da9fbf3a544978ced1a51f1a45998"
      }
     },
     "metadata": {},
     "output_type": "display_data"
    },
    {
     "data": {
      "text/plain": [
       "Validation: |          | 0/? [00:00<?, ?it/s]"
      ],
      "application/vnd.jupyter.widget-view+json": {
       "version_major": 2,
       "version_minor": 0,
       "model_id": "0b8f1d3e0b6a47eb9f76d612935ecee2"
      }
     },
     "metadata": {},
     "output_type": "display_data"
    },
    {
     "data": {
      "text/plain": [
       "Validation: |          | 0/? [00:00<?, ?it/s]"
      ],
      "application/vnd.jupyter.widget-view+json": {
       "version_major": 2,
       "version_minor": 0,
       "model_id": "840f103f4e004342ab77d4fb7a2006a5"
      }
     },
     "metadata": {},
     "output_type": "display_data"
    },
    {
     "data": {
      "text/plain": [
       "Validation: |          | 0/? [00:00<?, ?it/s]"
      ],
      "application/vnd.jupyter.widget-view+json": {
       "version_major": 2,
       "version_minor": 0,
       "model_id": "8c1aca4de6b6459699f8d5006ab2a031"
      }
     },
     "metadata": {},
     "output_type": "display_data"
    },
    {
     "data": {
      "text/plain": [
       "Validation: |          | 0/? [00:00<?, ?it/s]"
      ],
      "application/vnd.jupyter.widget-view+json": {
       "version_major": 2,
       "version_minor": 0,
       "model_id": "ecdb74e1449d4282bcb6a542d640d2bd"
      }
     },
     "metadata": {},
     "output_type": "display_data"
    },
    {
     "data": {
      "text/plain": [
       "Validation: |          | 0/? [00:00<?, ?it/s]"
      ],
      "application/vnd.jupyter.widget-view+json": {
       "version_major": 2,
       "version_minor": 0,
       "model_id": "04d936e1a24646eea0f7a146d67e68d2"
      }
     },
     "metadata": {},
     "output_type": "display_data"
    },
    {
     "data": {
      "text/plain": [
       "Validation: |          | 0/? [00:00<?, ?it/s]"
      ],
      "application/vnd.jupyter.widget-view+json": {
       "version_major": 2,
       "version_minor": 0,
       "model_id": "1ac2aa503e244357adddc14a1ff17c36"
      }
     },
     "metadata": {},
     "output_type": "display_data"
    },
    {
     "data": {
      "text/plain": [
       "Validation: |          | 0/? [00:00<?, ?it/s]"
      ],
      "application/vnd.jupyter.widget-view+json": {
       "version_major": 2,
       "version_minor": 0,
       "model_id": "48410e6aab18480fb2c83d27e3e750b8"
      }
     },
     "metadata": {},
     "output_type": "display_data"
    },
    {
     "data": {
      "text/plain": [
       "Validation: |          | 0/? [00:00<?, ?it/s]"
      ],
      "application/vnd.jupyter.widget-view+json": {
       "version_major": 2,
       "version_minor": 0,
       "model_id": "9571775abd0c4318a325d8177863c672"
      }
     },
     "metadata": {},
     "output_type": "display_data"
    },
    {
     "data": {
      "text/plain": [
       "Validation: |          | 0/? [00:00<?, ?it/s]"
      ],
      "application/vnd.jupyter.widget-view+json": {
       "version_major": 2,
       "version_minor": 0,
       "model_id": "494ddf91044946c491150f60173f228b"
      }
     },
     "metadata": {},
     "output_type": "display_data"
    },
    {
     "data": {
      "text/plain": [
       "Validation: |          | 0/? [00:00<?, ?it/s]"
      ],
      "application/vnd.jupyter.widget-view+json": {
       "version_major": 2,
       "version_minor": 0,
       "model_id": "49fe5ac029034c91826e6ace35efa2a7"
      }
     },
     "metadata": {},
     "output_type": "display_data"
    },
    {
     "data": {
      "text/plain": [
       "Validation: |          | 0/? [00:00<?, ?it/s]"
      ],
      "application/vnd.jupyter.widget-view+json": {
       "version_major": 2,
       "version_minor": 0,
       "model_id": "11aec37c0dc249a881d5fb4fa6a621c7"
      }
     },
     "metadata": {},
     "output_type": "display_data"
    },
    {
     "data": {
      "text/plain": [
       "Validation: |          | 0/? [00:00<?, ?it/s]"
      ],
      "application/vnd.jupyter.widget-view+json": {
       "version_major": 2,
       "version_minor": 0,
       "model_id": "3816ba0a4fe04ca2a231e3aa13b9b2d4"
      }
     },
     "metadata": {},
     "output_type": "display_data"
    },
    {
     "data": {
      "text/plain": [
       "Validation: |          | 0/? [00:00<?, ?it/s]"
      ],
      "application/vnd.jupyter.widget-view+json": {
       "version_major": 2,
       "version_minor": 0,
       "model_id": "ccdefb490bcf4b1f9ff8c9909090f07f"
      }
     },
     "metadata": {},
     "output_type": "display_data"
    },
    {
     "data": {
      "text/plain": [
       "Validation: |          | 0/? [00:00<?, ?it/s]"
      ],
      "application/vnd.jupyter.widget-view+json": {
       "version_major": 2,
       "version_minor": 0,
       "model_id": "fbb2ca2351c540669684bbb956c97cb4"
      }
     },
     "metadata": {},
     "output_type": "display_data"
    },
    {
     "data": {
      "text/plain": [
       "Validation: |          | 0/? [00:00<?, ?it/s]"
      ],
      "application/vnd.jupyter.widget-view+json": {
       "version_major": 2,
       "version_minor": 0,
       "model_id": "8b8256a27e93478d8416ccf6624304ec"
      }
     },
     "metadata": {},
     "output_type": "display_data"
    },
    {
     "data": {
      "text/plain": [
       "Validation: |          | 0/? [00:00<?, ?it/s]"
      ],
      "application/vnd.jupyter.widget-view+json": {
       "version_major": 2,
       "version_minor": 0,
       "model_id": "2fff0947bc894bc8842a5a314f8f94ab"
      }
     },
     "metadata": {},
     "output_type": "display_data"
    },
    {
     "data": {
      "text/plain": [
       "Validation: |          | 0/? [00:00<?, ?it/s]"
      ],
      "application/vnd.jupyter.widget-view+json": {
       "version_major": 2,
       "version_minor": 0,
       "model_id": "2e96dd3cddee4db6b4f0ee6a152246f5"
      }
     },
     "metadata": {},
     "output_type": "display_data"
    },
    {
     "name": "stderr",
     "output_type": "stream",
     "text": [
      "`Trainer.fit` stopped: `max_epochs=20` reached.\n"
     ]
    }
   ],
   "execution_count": 38
  },
  {
   "cell_type": "markdown",
   "source": [
    "## **Question 24b: interpréter le résultat d'entraînement de votre 2ème modèle CNN via Wandb**"
   ],
   "metadata": {
    "id": "hXoXUlIjnavm"
   }
  },
  {
   "cell_type": "markdown",
   "source": "https://wandb.ai/maximilien003-universit-de-mons/TP4%20MNIST?nw=nwusermaximilien003",
   "metadata": {
    "id": "PAHKYd58navn"
   }
  },
  {
   "cell_type": "markdown",
   "source": [
    "## **Question 25 : évaluer votre deuxième modèle CNN avec les données de test**"
   ],
   "metadata": {
    "id": "DdgSPVIxmD4B"
   }
  },
  {
   "cell_type": "code",
   "metadata": {
    "id": "IjMLpsb56I9Z",
    "ExecuteTime": {
     "end_time": "2025-03-06T10:49:14.918051Z",
     "start_time": "2025-03-06T10:49:05.775158Z"
    }
   },
   "source": [
    "trainer.test(mnist_model, test_loader)\n",
    "wandb.finish()"
   ],
   "outputs": [
    {
     "name": "stderr",
     "output_type": "stream",
     "text": [
      "LOCAL_RANK: 0 - CUDA_VISIBLE_DEVICES: [0]\n"
     ]
    },
    {
     "data": {
      "text/plain": [
       "Testing: |          | 0/? [00:00<?, ?it/s]"
      ],
      "application/vnd.jupyter.widget-view+json": {
       "version_major": 2,
       "version_minor": 0,
       "model_id": "9e144ff7f3c64500944e32f752ed29d3"
      }
     },
     "metadata": {},
     "output_type": "display_data"
    },
    {
     "name": "stdout",
     "output_type": "stream",
     "text": [
      "────────────────────────────────────────────────────────────────────────────────────────────────────────────────────────\r\n",
      "       Test metric             DataLoader 0\r\n",
      "────────────────────────────────────────────────────────────────────────────────────────────────────────────────────────\r\n",
      "        test_acc            0.9848402142524719\r\n",
      "        test_loss           0.04731228947639465\r\n",
      "────────────────────────────────────────────────────────────────────────────────────────────────────────────────────────\n"
     ]
    },
    {
     "data": {
      "text/plain": [
       "<IPython.core.display.HTML object>"
      ],
      "text/html": []
     },
     "metadata": {},
     "output_type": "display_data"
    },
    {
     "data": {
      "text/plain": [
       "<IPython.core.display.HTML object>"
      ],
      "text/html": [
       "<br>    <style><br>        .wandb-row {<br>            display: flex;<br>            flex-direction: row;<br>            flex-wrap: wrap;<br>            justify-content: flex-start;<br>            width: 100%;<br>        }<br>        .wandb-col {<br>            display: flex;<br>            flex-direction: column;<br>            flex-basis: 100%;<br>            flex: 1;<br>            padding: 10px;<br>        }<br>    </style><br><div class=\"wandb-row\"><div class=\"wandb-col\"><h3>Run history:</h3><br/><table class=\"wandb\"><tr><td>epoch</td><td>▁▁▁▁▂▂▂▂▂▂▃▃▃▃▃▃▄▄▄▄▅▅▅▅▅▅▆▆▆▆▆▆▇▇▇▇▇▇██</td></tr><tr><td>test_acc</td><td>▁</td></tr><tr><td>test_loss</td><td>▁</td></tr><tr><td>train_acc</td><td>▁▁▂▃▄▄▅▅▆▆▆▆▇▇▇▇████</td></tr><tr><td>train_loss</td><td>█▇▇▆▆▅▅▄▄▄▃▃▃▂▂▂▂▁▁▁</td></tr><tr><td>trainer/global_step</td><td>▁▁▁▁▂▂▂▂▂▂▃▃▃▃▄▄▄▄▄▄▅▅▅▅▅▅▆▆▆▆▇▇▇▇▇▇████</td></tr><tr><td>val_acc</td><td>▁▃▄▃▄▅▄▅▅▅▄▄▆▅▆█▆███</td></tr><tr><td>val_loss</td><td>█▇▆▄▄▃▂▂▂▂▁▁▁▁▁▁▁▂▁▂</td></tr></table><br/></div><div class=\"wandb-col\"><h3>Run summary:</h3><br/><table class=\"wandb\"><tr><td>epoch</td><td>20</td></tr><tr><td>test_acc</td><td>0.98484</td></tr><tr><td>test_loss</td><td>0.04731</td></tr><tr><td>train_acc</td><td>0.99877</td></tr><tr><td>train_loss</td><td>0.0107</td></tr><tr><td>trainer/global_step</td><td>15000</td></tr><tr><td>val_acc</td><td>0.98393</td></tr><tr><td>val_loss</td><td>0.057</td></tr></table><br/></div></div>"
      ]
     },
     "metadata": {},
     "output_type": "display_data"
    },
    {
     "data": {
      "text/plain": [
       "<IPython.core.display.HTML object>"
      ],
      "text/html": [
       " View run <strong style=\"color:#cdcd00\">cnn_two_conv</strong> at: <a href='https://wandb.ai/maximilien003-universit-de-mons/TP4%20MNIST/runs/43g1d6n0' target=\"_blank\">https://wandb.ai/maximilien003-universit-de-mons/TP4%20MNIST/runs/43g1d6n0</a><br> View project at: <a href='https://wandb.ai/maximilien003-universit-de-mons/TP4%20MNIST' target=\"_blank\">https://wandb.ai/maximilien003-universit-de-mons/TP4%20MNIST</a><br>Synced 5 W&B file(s), 0 media file(s), 2 artifact file(s) and 0 other file(s)"
      ]
     },
     "metadata": {},
     "output_type": "display_data"
    },
    {
     "data": {
      "text/plain": [
       "<IPython.core.display.HTML object>"
      ],
      "text/html": [
       "Find logs at: <code>.\\wandb\\run-20250306_114449-43g1d6n0\\logs</code>"
      ]
     },
     "metadata": {},
     "output_type": "display_data"
    }
   ],
   "execution_count": 39
  }
 ],
 "metadata": {
  "accelerator": "GPU",
  "colab": {
   "gpuType": "T4",
   "provenance": []
  },
  "kernelspec": {
   "display_name": "Python 3 (ipykernel)",
   "name": "python3",
   "language": "python"
  },
  "language_info": {
   "codemirror_mode": {
    "name": "ipython",
    "version": 3
   },
   "file_extension": ".py",
   "mimetype": "text/x-python",
   "name": "python",
   "nbconvert_exporter": "python",
   "pygments_lexer": "ipython3",
   "version": "3.9.21"
  }
 },
 "nbformat": 4,
 "nbformat_minor": 0
}
